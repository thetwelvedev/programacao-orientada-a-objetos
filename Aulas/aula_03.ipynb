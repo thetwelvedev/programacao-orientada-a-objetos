{
 "cells": [
  {
   "cell_type": "markdown",
   "metadata": {},
   "source": [
    "<center>\n",
    "    <table>\n",
    "        <tr>\n",
    "            <th> <img src=\"figures/ufrr_logo.png\" width=75px> </th>\n",
    "            <th> <img src=\"figures/dcc.jpg\" width=100px> </th>\n",
    "        </tr>\n",
    "    <table>\n",
    "    <font size=4>\n",
    "    Universidade Federal de Roriama\n",
    "    <br>\n",
    "    Departamento de Ciência da Computação\n",
    "    <br>\n",
    "    Professor: Filipe Dwan Pereira\n",
    "    <br>\n",
    "    Código da disciplina: DCC305\n",
    "    <br>\n",
    "    Período: 2019.2\n",
    "    </font>\n",
    "</center>"
   ]
  },
  {
   "cell_type": "markdown",
   "metadata": {},
   "source": [
    "## Disclaimer\n",
    "\n",
    "Esta aula é uma adaptação do capítulo 3 do livro:\n",
    "\n",
    "* Phillips, Dusty. Python 3 Object-oriented Programming - Unleash the power of Python 3 objects. \"Packt Publishing\", 2015. Second Edition."
   ]
  },
  {
   "cell_type": "markdown",
   "metadata": {},
   "source": [
    "Nesta aula aprenderemos:\n",
    "\n",
    "* O básico sobre herança\n",
    "* Usar herança a partir de built-ins\n",
    "* Herança Múltipla;\n",
    "* Polimorfismos e duck typing;"
   ]
  },
  {
   "cell_type": "markdown",
   "metadata": {},
   "source": [
    "## Herança Básica\n",
    "\n",
    "* Tecnicamente, todas as classes que usamos já usam herança, uma vez que elas herdam da classe *object*;\n",
    "    * Os comportamentos fornecidos por essa classe são aqueles com underscore duplo;\n",
    "* A classe *object* permite que o python trate todos os objetos da mesma maneira, isto é, como um objeto;\n",
    "* Até agora ao criar nossas classes não explicitamos que herdamos de object, mas podemos, conforme segue:"
   ]
  },
  {
   "cell_type": "code",
   "execution_count": null,
   "metadata": {},
   "outputs": [],
   "source": [
    "class MySubClass(object):\n",
    "    pass"
   ]
  },
  {
   "cell_type": "markdown",
   "metadata": {},
   "source": [
    "* Isso é **herança**;\n",
    "* Chamamos de superclasse ou classe pai a classe que estendemos e de subclasse ou classe filha a classe que herda.\n",
    "    * No caso acima, object é a superclasse e MySubClasse a subclasse;\n",
    "* Para realizar a herança em python basta colocar o nome da superclasse a qual se quer herdar dentro dos parênteses da definidação da subclasse;"
   ]
  },
  {
   "cell_type": "markdown",
   "metadata": {},
   "source": [
    "* O uso mais simples da herança é adicionar funcionalidade a uma classe existente.\n",
    "* Para ilustrar, veja um simples exemplo de uma classe base que gerencia contatos:"
   ]
  },
  {
   "cell_type": "code",
   "execution_count": null,
   "metadata": {},
   "outputs": [],
   "source": [
    "from typing import List\n",
    "\n",
    "class Contact:\n",
    "    all_contacts:List[\"Contact\"] = []\n",
    "    \n",
    "    def __init__(self, name:str, email:str):\n",
    "        self.name = name\n",
    "        self.email = email\n",
    "        Contact.all_contacts.append(self)"
   ]
  },
  {
   "cell_type": "code",
   "execution_count": null,
   "metadata": {},
   "outputs": [
    {
     "name": "stdout",
     "output_type": "stream",
     "text": [
      "Aurélio\n",
      "Ranier\n",
      "Anderson Silva\n"
     ]
    }
   ],
   "source": [
    "for contato in Contact.all_contacts:\n",
    "    print(contato.name)"
   ]
  },
  {
   "cell_type": "markdown",
   "metadata": {},
   "source": [
    "* Neste exemplo usamos o que chamamos de variável de classe;\n",
    "    * A lista *all_contacts* é uma variável de classe porque é compartilhada por todos objetos da classe *Contact*.\n",
    "* Agora imagine que existem contatos de fornecedores que fazemos pedidos;\n",
    "    * Poderíamos pensar em adicionar um método **order** na classe Contact, mas isso faria que contatos familiares também tivessem esse método;\n",
    "    * Vamos criar uma classe Fornecedor (*Supplier* em inglês) que além de herdar de Contact, também possui o método *order*:"
   ]
  },
  {
   "cell_type": "code",
   "execution_count": null,
   "metadata": {},
   "outputs": [],
   "source": [
    "class Supplier(Contact):\n",
    "    def order(self, pedido):\n",
    "        print(f'Pedido para {self.name}: {pedido}')"
   ]
  },
  {
   "cell_type": "code",
   "execution_count": null,
   "metadata": {},
   "outputs": [],
   "source": [
    "c1 = Contact('Filipe', 'filipe@gmail.com')\n",
    "f1 = Supplier('Amazon', 'amazon@gmail.com')"
   ]
  },
  {
   "cell_type": "markdown",
   "metadata": {},
   "source": [
    "* Note que o objeto f1 possui nome e email pois herda da classe Contact:"
   ]
  },
  {
   "cell_type": "code",
   "execution_count": null,
   "metadata": {},
   "outputs": [
    {
     "name": "stdout",
     "output_type": "stream",
     "text": [
      "Filipe filipe@gmail.com\n",
      "Amazon amazon@gmail.com\n"
     ]
    }
   ],
   "source": [
    "print(c1.name, c1.email)\n",
    "print(f1.name, f1.email)"
   ]
  },
  {
   "cell_type": "markdown",
   "metadata": {},
   "source": [
    "* Perceba ainda que apenas o objeto f1 é capaz de efetuar pedidos:"
   ]
  },
  {
   "cell_type": "code",
   "execution_count": null,
   "metadata": {},
   "outputs": [
    {
     "name": "stdout",
     "output_type": "stream",
     "text": [
      "Pedido para Amazon: Preciso de 2 camisas do palmeiras\n"
     ]
    }
   ],
   "source": [
    "f1.order('Preciso de 2 camisas do palmeiras')"
   ]
  },
  {
   "cell_type": "code",
   "execution_count": null,
   "metadata": {},
   "outputs": [
    {
     "ename": "AttributeError",
     "evalue": "'Contact' object has no attribute 'order'",
     "output_type": "error",
     "traceback": [
      "\u001b[1;31m---------------------------------------------------------------------------\u001b[0m",
      "\u001b[1;31mAttributeError\u001b[0m                            Traceback (most recent call last)",
      "\u001b[1;32m<ipython-input-9-90f2e97dccf1>\u001b[0m in \u001b[0;36m<module>\u001b[1;34m\u001b[0m\n\u001b[1;32m----> 1\u001b[1;33m \u001b[0mc1\u001b[0m\u001b[1;33m.\u001b[0m\u001b[0morder\u001b[0m\u001b[1;33m(\u001b[0m\u001b[1;34m'Preciso de 2 camisas do flamengo'\u001b[0m\u001b[1;33m)\u001b[0m\u001b[1;33m\u001b[0m\u001b[1;33m\u001b[0m\u001b[0m\n\u001b[0m",
      "\u001b[1;31mAttributeError\u001b[0m: 'Contact' object has no attribute 'order'"
     ]
    }
   ],
   "source": [
    "c1.order('Preciso de 2 camisas do flamengo')"
   ]
  },
  {
   "cell_type": "markdown",
   "metadata": {},
   "source": [
    "* Agora perceba como o atributo *all_contacts* é compartilhado por ambos objetos:"
   ]
  },
  {
   "cell_type": "code",
   "execution_count": null,
   "metadata": {},
   "outputs": [
    {
     "data": {
      "text/plain": [
       "[<__main__.Contact at 0x2712cee6c10>, <__main__.Supplier at 0x2712cee6a30>]"
      ]
     },
     "execution_count": 23,
     "metadata": {},
     "output_type": "execute_result"
    }
   ],
   "source": [
    "c1.all_contacts"
   ]
  },
  {
   "cell_type": "code",
   "execution_count": null,
   "metadata": {},
   "outputs": [
    {
     "data": {
      "text/plain": [
       "[<__main__.Contact at 0x2712cee6c10>, <__main__.Supplier at 0x2712cee6a30>]"
      ]
     },
     "execution_count": 24,
     "metadata": {},
     "output_type": "execute_result"
    }
   ],
   "source": [
    "f1.all_contacts"
   ]
  },
  {
   "cell_type": "markdown",
   "metadata": {},
   "source": [
    "* Como ele é um atributo de classe, você pode acessá-lo diretamente pela classe:"
   ]
  },
  {
   "cell_type": "code",
   "execution_count": null,
   "metadata": {},
   "outputs": [
    {
     "data": {
      "text/plain": [
       "[<__main__.Contact at 0x2712cee6c10>, <__main__.Supplier at 0x2712cee6a30>]"
      ]
     },
     "execution_count": 25,
     "metadata": {},
     "output_type": "execute_result"
    }
   ],
   "source": [
    "Contact.all_contacts"
   ]
  },
  {
   "cell_type": "markdown",
   "metadata": {},
   "source": [
    "## Herdando de built-ins\n",
    "\n",
    "* Um uso interessante desse tipo de herança é adicionar funcionalidade aos recursos built-ins do python;\n",
    "* Por exemplo, podemos criar uma classe *ContactList* que adiciona um método para fazer busca de contatos em uma lista padrão do python;\n",
    "    * Para tanto, herdaremos de *list*:\n",
    "* Após isso, iremos usar a ContectList ao invés de uma lista padrão para iniciazar nossa variável de classe *all_contacts* (linha 10 do código abaixo):"
   ]
  },
  {
   "cell_type": "code",
   "execution_count": null,
   "metadata": {},
   "outputs": [],
   "source": [
    "class ContactList(list):    \n",
    "    def search(self, name):\n",
    "        matching_contacts = []\n",
    "        for contact in self:\n",
    "            if name in contact.name:\n",
    "                matching_contacts.append(contact)\n",
    "        return matching_contacts\n",
    "\n",
    "class Contact():\n",
    "    all_contacts = ContactList()\n",
    "    \n",
    "    def __init__(self, name, email):\n",
    "        self.name = name\n",
    "        self.email = email\n",
    "        Contact.all_contacts.append(self)"
   ]
  },
  {
   "cell_type": "markdown",
   "metadata": {},
   "source": [
    "* Para testar nosso exemplo, vamos criar três contatos:"
   ]
  },
  {
   "cell_type": "code",
   "execution_count": null,
   "metadata": {},
   "outputs": [],
   "source": [
    "c1 = Contact('Fulano da Silva', 'fulano1@dominio.com')\n",
    "c2 = Contact('Fulano Sousa', 'fulano2@dominio.com')\n",
    "c3 = Contact('Ciclano Pereira', 'ciclano3@dominio.com')"
   ]
  },
  {
   "cell_type": "markdown",
   "metadata": {},
   "source": [
    "* Agora vamos fazer uma busca por contatos com nome *Fulano*;"
   ]
  },
  {
   "cell_type": "code",
   "execution_count": null,
   "metadata": {},
   "outputs": [
    {
     "name": "stdout",
     "output_type": "stream",
     "text": [
      "Fulano da Silva fulano1@dominio.com\n",
      "Fulano Sousa fulano2@dominio.com\n"
     ]
    }
   ],
   "source": [
    "resultado = Contact.all_contacts.search('Fulano')\n",
    "\n",
    "for contato in resultado:\n",
    "    print(contato.name, contato.email)"
   ]
  },
  {
   "cell_type": "markdown",
   "metadata": {},
   "source": [
    "* Bem, existem dois objetos com esse nome;\n",
    "    * Vamos apresentá-los usando list comprehension:"
   ]
  },
  {
   "cell_type": "code",
   "execution_count": null,
   "metadata": {},
   "outputs": [
    {
     "data": {
      "text/plain": [
       "['Fulano da Silva', 'Fulano Sousa']"
      ]
     },
     "execution_count": 29,
     "metadata": {},
     "output_type": "execute_result"
    }
   ],
   "source": [
    "[c.name for c in Contact.all_contacts.search(\"Fulano\")]"
   ]
  },
  {
   "cell_type": "markdown",
   "metadata": {},
   "source": [
    "* Poderíamos escrever o método search empregando list comprehension:"
   ]
  },
  {
   "cell_type": "code",
   "execution_count": null,
   "metadata": {},
   "outputs": [],
   "source": [
    "class ContactList(list):    \n",
    "    def search(self, nome:str):\n",
    "        return [contato for contato in self if nome == contato.nome]"
   ]
  },
  {
   "cell_type": "markdown",
   "metadata": {},
   "source": [
    "* Note que a sintaxe built-in [ ] é equivalante a *list()*:"
   ]
  },
  {
   "cell_type": "code",
   "execution_count": null,
   "metadata": {},
   "outputs": [
    {
     "data": {
      "text/plain": [
       "True"
      ]
     },
     "execution_count": 31,
     "metadata": {},
     "output_type": "execute_result"
    }
   ],
   "source": [
    "[] == list()"
   ]
  },
  {
   "cell_type": "markdown",
   "metadata": {},
   "source": [
    "* Assim sendo, quando fazemos *variavel = [ ]*, estamos instanciando um objeto da classe *list*;\n",
    "* Ainda, a classe *list* herda de object, como podemos ver abaixo:"
   ]
  },
  {
   "cell_type": "code",
   "execution_count": null,
   "metadata": {},
   "outputs": [
    {
     "data": {
      "text/plain": [
       "True"
      ]
     },
     "execution_count": 32,
     "metadata": {},
     "output_type": "execute_result"
    }
   ],
   "source": [
    "isinstance([], object)"
   ]
  },
  {
   "cell_type": "markdown",
   "metadata": {},
   "source": [
    "* Como um segundo exemplo, vamos herdar agora da classe *dict*;\n",
    "* Iremos adicionar uma funcionalidade para verificar qual é a chave mais longa do dicionário:"
   ]
  },
  {
   "cell_type": "code",
   "execution_count": null,
   "metadata": {},
   "outputs": [],
   "source": [
    "class LongNameDict(dict):\n",
    "    def longest_key(self):\n",
    "        longest = None\n",
    "        for key in self.keys():\n",
    "            if not longest or len(key) > len(longest):\n",
    "                longest = key\n",
    "        return longest"
   ]
  },
  {
   "cell_type": "code",
   "execution_count": null,
   "metadata": {},
   "outputs": [
    {
     "data": {
      "text/plain": [
       "'longest yet'"
      ]
     },
     "execution_count": 35,
     "metadata": {},
     "output_type": "execute_result"
    }
   ],
   "source": [
    "longkeys = LongNameDict()\n",
    "longkeys['hello'] = 1\n",
    "longkeys['longest yet'] = 5\n",
    "longkeys['hello2'] = 'world'\n",
    "longkeys.longest_key()"
   ]
  },
  {
   "cell_type": "markdown",
   "metadata": {},
   "source": [
    "## Sobrescrevendo métodos\n",
    "\n",
    "* Além de adicionar funcionalidades ao utilizar herença, podemos também modificá-las;\n",
    "    * Isto é, podemos herdar comportamentos e modificá-los;\n",
    "* Por exemplo, imagine que queremos adicionar o atributo phone_number nos contatos dos nossos amigos mais próximos;\n",
    "    * Para tanto, podemos criar uma classe Friend que herda de Contact e sobrescreve o construtor:"
   ]
  },
  {
   "cell_type": "code",
   "execution_count": null,
   "metadata": {},
   "outputs": [],
   "source": [
    "class Friend(Contact):\n",
    "    def __init__(self, name, email, phone):\n",
    "        self.name = name\n",
    "        self.email = email\n",
    "        self.phone = phone"
   ]
  },
  {
   "cell_type": "markdown",
   "metadata": {},
   "source": [
    "* Observe 2 problemas com o código acima:\n",
    "    1. Repetimos código o que pode tornar o processo de manutenção do sistema ruim;\n",
    "    2. Esquecemos de adicionar o contado do amigo na variável de classe *all_contacts*;\n",
    "* O que nós realmente precisamos é executar o \\_\\_init\\_\\_ da classe Contact e apenas adicionar o telefone do contato;\n",
    "* Para tanto, podemos usar a palavra chave **super**, que nos permite invocar métodos da superclasse diretamente:"
   ]
  },
  {
   "cell_type": "code",
   "execution_count": null,
   "metadata": {},
   "outputs": [],
   "source": [
    "class Friend(Contact):\n",
    "    def __init__(self, name, email, phone):\n",
    "        super().__init__(name, email)\n",
    "        self.phone = phone"
   ]
  },
  {
   "cell_type": "markdown",
   "metadata": {},
   "source": [
    "* Vamos criar um amigo, apenas para testar a classe:"
   ]
  },
  {
   "cell_type": "code",
   "execution_count": null,
   "metadata": {},
   "outputs": [],
   "source": [
    "friend1 = Friend('Beltrano Ferreira', 'beltrano@dominio.com', '2121-3131')"
   ]
  },
  {
   "cell_type": "code",
   "execution_count": null,
   "metadata": {},
   "outputs": [
    {
     "data": {
      "text/plain": [
       "'2121-3131'"
      ]
     },
     "execution_count": 38,
     "metadata": {},
     "output_type": "execute_result"
    }
   ],
   "source": [
    "friend1.phone"
   ]
  },
  {
   "cell_type": "code",
   "execution_count": null,
   "metadata": {},
   "outputs": [
    {
     "data": {
      "text/plain": [
       "[<__main__.Contact at 0x2712cfaebe0>,\n",
       " <__main__.Contact at 0x2712cecd550>,\n",
       " <__main__.Contact at 0x2712cfae3d0>,\n",
       " <__main__.Friend at 0x2712d09f640>]"
      ]
     },
     "execution_count": 39,
     "metadata": {},
     "output_type": "execute_result"
    }
   ],
   "source": [
    "Contact.all_contacts"
   ]
  },
  {
   "cell_type": "markdown",
   "metadata": {},
   "source": [
    "## Exercício prático em Sala (não avaliativo)\n",
    "\n",
    "#### Atividade Prática: Gerenciamento de Contatos com Herança e Métodos Sobrescritos\n",
    "\n",
    "Você acabou de aprender sobre herança, sobrescrita de métodos, e a extensão de classes built-in no Python. Agora, é hora de aplicar esses conceitos em uma atividade prática. Você irá criar um sistema básico de gerenciamento de contatos com funcionalidades específicas para diferentes tipos de contatos.\n",
    "\n",
    "#### Requisitos da atividade\n",
    "\n",
    "1. Crie uma classe base `Contact`:\n",
    "* Esta classe já foi apresentada e inclui a lista `all_contacts` para armazenar todos os contatos criados.\n",
    "2. Crie uma classe `WorkContact` que herde de `Contact`:\n",
    "    * Adicione o atributo `job_title` (título do trabalho) no construtor.\n",
    "    * Adicione um método chamado `send_meeting_invitation(self, horario, contact)` que receba o horário da reunião e imprima uma mensagem como:\n",
    "        * \"Enviando convite para reunião às 14:00 para Luciano\".\n",
    "3. Crie uma classe `FamilyContact` que herde de `Contact`:\n",
    "    * Adicione o atributo `relationship` (parentesco, ex: \"pai\", \"irmã\") no construtor.\n",
    "    * Sobrescreva o método `__str__` para que, ao exibir o contato, ele mostre uma mensagem do tipo:\n",
    "        * \"Filipe - filipe@gmail.com (Parentesco: irmão)\"\n",
    "4. Modifique a lista de contatos:\n",
    "    * Use `ContactList` para substituir a lista padrão na classe `Contact`.\n",
    "    * Adicione um método chamado `search_by_email` na classe `ContactList` que permita procurar contatos pelo email.\n",
    "5. Diferencie os contatos:\n",
    "    * Use `isinstance` para determinar o tipo de contato (trabalho ou família) e exibir mensagens personalizadas.\n",
    "    \n",
    "#### Exemplo de código esperado para testar os requisitos acima:"
   ]
  },
  {
   "cell_type": "code",
   "execution_count": null,
   "metadata": {},
   "outputs": [
    {
     "name": "stdout",
     "output_type": "stream",
     "text": [
      "Enviando convite para reunião às 14:00 para Dorinha\n",
      "Andre - andre@gmail.com\n",
      "Luciano - luciano@dcc.ufrr.br\n",
      "Dorinha - dorinha@cct.ufrr.br\n",
      "\n",
      "Tipos de contato:\n",
      "Luciano é um contato de trabalho com o cargo Professor.\n",
      "Andre é um contato de família com parentesco: irmão.\n",
      "Dorinha é um contato de trabalho com o cargo Secretaria.\n"
     ]
    }
   ],
   "source": [
    "class ContactList(list):    \n",
    "    def search(self, name):\n",
    "        matching_contacts = []\n",
    "        for contact in self:\n",
    "            if name in contact.name:\n",
    "                matching_contacts.append(contact)\n",
    "        return matching_contacts\n",
    "    \n",
    "    def search_by_email(self, email): #Aqui ele busca o email na classe Contact mas armazena na lista o contato e retorna essa lista, pois o contato tem tanto nome quanto email como atributo\n",
    "        matching_contacts = []\n",
    "        for contact in self:\n",
    "            if email in contact.email:\n",
    "                matching_contacts.append(contact)\n",
    "        return matching_contacts\n",
    "\n",
    "class Contact:\n",
    "    all_contacts = ContactList()\n",
    "    \n",
    "    def __init__(self, name:str, email:str):\n",
    "        self.name = name\n",
    "        self.email = email\n",
    "        Contact.all_contacts.append(self)\n",
    "    \n",
    "    def __str__(self):\n",
    "        return f\"{self.name} - {self.email}\"\n",
    "\n",
    "class WorkContact(Contact):\n",
    "    def __init__(self, name, email, job_title):\n",
    "        super().__init__(name, email)\n",
    "        self.job_title = job_title\n",
    "        def __str__(self):\n",
    "            return f\"{self.name} - {self.email} (Parentesco: {self.job_title})\"\n",
    "\n",
    "    def send_meeting_invitation(self, horario, contact):\n",
    "        print(f\"Enviando convite para reunião às {horario} para {contact.name}\")\n",
    "\n",
    "class FamilyContact(Contact):\n",
    "    def __init__(self, name, email, relationship):\n",
    "        super().__init__(name, email)\n",
    "        self.relationship = relationship\n",
    "        # Sobrescrição\n",
    "        def __str__(self):\n",
    "            return f\"{self.name} - {self.email} (Parentesco: {self.relationship})\"\n",
    "\n",
    "\n",
    "if __name__ == '__main__':\n",
    "\n",
    "    # Criando contatos\n",
    "    c1 = WorkContact(\"Luciano\", \"luciano@dcc.ufrr.br\", \"Professor\")\n",
    "    c2 = FamilyContact(\"Andre\", \"andre@gmail.com\", \"irmão\")\n",
    "    c3 = WorkContact(\"Dorinha\", \"dorinha@cct.ufrr.br\", \"Secretaria\")\n",
    "\n",
    "    # Enviando convite de reunião\n",
    "    c1.send_meeting_invitation(\"14:00\", c3)\n",
    "\n",
    "    # Mostrando informações detalhadas (sobrescrita de __str__)\n",
    "    print(c1)\n",
    "    print(c2)\n",
    "\n",
    "    # Buscando contatos por nome\n",
    "    resultado = Contact.all_contacts.search(\"Luciano\")\n",
    "    for contato in resultado:\n",
    "        print(contato)\n",
    "\n",
    "    # Buscando contatos por email\n",
    "    resultado_email = Contact.all_contacts.search_by_email(\"dorinha@cct.ufrr.br\")\n",
    "    for contato in resultado_email:\n",
    "        print(contato)\n",
    "\n",
    "    # Identificando o tipo de contato com isinstance\n",
    "    print(\"\\nTipos de contato:\")\n",
    "    for contato in Contact.all_contacts:\n",
    "        if isinstance(contato, WorkContact):\n",
    "            print(f\"{contato.name} é um contato de trabalho com o cargo {contato.job_title}.\")\n",
    "        elif isinstance(contato, FamilyContact):\n",
    "            print(f\"{contato.name} é um contato de família com parentesco: {contato.relationship}.\")\n",
    "        else:\n",
    "            print(f\"{contato.name} é um contato geral.\")\n",
    "    "
   ]
  },
  {
   "cell_type": "markdown",
   "metadata": {},
   "source": [
    "## Herança Múltipla\n",
    "\n",
    "* A herança múltipla é um assunto delicado.\n",
    "    * Em teoria, é bem simples: uma subclasse que herda diretamente funcionalidades de mais uma superclasse;\n",
    "    * Na prática, essa técnica não é tão usual e muitos experts não a recomendam;\n",
    "* A maneira mais fácil de realizar herança múltipla é chamada de **mixin**;\n",
    "    * Mixin é geralmente uma superclasse que só existe para adicionar funcionalidade a outras classes através da herança;\n",
    "    * Por exemplo, vamos adicionar funcionalidades a nossa classe *Contact* para poder enviar e-mail para o *self.email*;"
   ]
  },
  {
   "cell_type": "code",
   "execution_count": 24,
   "metadata": {},
   "outputs": [],
   "source": [
    "class MailSender:\n",
    "    def send_mail(self, message):\n",
    "        print('Enviando e-mail para ' + self.email)\n",
    "        # logica de envio de e-mail"
   ]
  },
  {
   "cell_type": "markdown",
   "metadata": {},
   "source": [
    "* Podemos então criar uma classe que herda de Cotact e MailSender:"
   ]
  },
  {
   "cell_type": "code",
   "execution_count": 25,
   "metadata": {},
   "outputs": [],
   "source": [
    "class EmailableContact(Contact, MailSender):\n",
    "    pass"
   ]
  },
  {
   "cell_type": "markdown",
   "metadata": {},
   "source": [
    "* Agora vamos testar a nossa classe híbrida:"
   ]
  },
  {
   "cell_type": "code",
   "execution_count": 26,
   "metadata": {},
   "outputs": [],
   "source": [
    "e = EmailableContact(\"John Smith\", \"jsmith@example.net\")"
   ]
  },
  {
   "cell_type": "code",
   "execution_count": 27,
   "metadata": {},
   "outputs": [
    {
     "name": "stdout",
     "output_type": "stream",
     "text": [
      "Enviando e-mail para jsmith@example.net\n"
     ]
    }
   ],
   "source": [
    "e.send_mail(\"Hello, test e-mail here\")"
   ]
  },
  {
   "cell_type": "markdown",
   "metadata": {},
   "source": [
    "* Observe que o objeto da classe *EmailableContact* também está sendo adicionado na lista *all_contacts*:"
   ]
  },
  {
   "cell_type": "code",
   "execution_count": 28,
   "metadata": {},
   "outputs": [
    {
     "data": {
      "text/plain": [
       "[<__main__.Contact at 0x50b2be0>,\n",
       " <__main__.Contact at 0x50b2b38>,\n",
       " <__main__.Contact at 0x50b2c88>,\n",
       " <__main__.Friend at 0x50d3240>,\n",
       " <__main__.EmailableContact at 0x50d3e48>]"
      ]
     },
     "execution_count": 28,
     "metadata": {},
     "output_type": "execute_result"
    }
   ],
   "source": [
    "Contact.all_contacts"
   ]
  },
  {
   "cell_type": "markdown",
   "metadata": {},
   "source": [
    "### Nota sobre envio de email em python\n",
    "\n",
    "* Caso queira realmente enviar um e-mail, segue abaixo um breve tutorial onde o remetente tem uma conta do gmail.\n",
    "    * Primeiro, acesse este [link](https://myaccount.google.com/lesssecureapps?pli=1) e dê permissão para aplicações menos seguras;\n",
    "    * A seguir, use o seguinte código:"
   ]
  },
  {
   "cell_type": "code",
   "execution_count": null,
   "metadata": {},
   "outputs": [],
   "source": [
    "import smtplib\n",
    "from email.mime.text import MIMEText\n",
    "from email.mime.multipart import MIMEMultipart\n",
    "\n",
    "email = 'seu_email@gmail.com'\n",
    "senha = input('Entre com a senha:')\n",
    "receptor = 'seu_email@gmail.com'\n",
    "assunto = 'Ufrr python - POO'\n",
    "conteudo = 'Aula de POO - Testando o envio de um email'\n",
    "\n",
    "msg = MIMEMultipart()\n",
    "msg['From'] = email\n",
    "msg['To'] = receptor\n",
    "msg['Subject'] = assunto\n",
    "msg.attach(MIMEText(conteudo, 'plain'))\n",
    "\n",
    "servidor = smtplib.SMTP('smtp.gmail.com', 587)\n",
    "servidor.starttls()\n",
    "servidor.login(email, senha)\n",
    "text = msg.as_string()\n",
    "servidor.sendmail(email, receptor, text)\n",
    "servidor.quit()"
   ]
  },
  {
   "cell_type": "markdown",
   "metadata": {},
   "source": [
    "* **Créditos**: o código acima foi feito com base nesta [videoaula](https://www.youtube.com/watch?v=YPiHBtddefI) do canal PyTutorials;\n",
    "* Para um tutorial um pouco mais completo, acesso este [link](https://realpython.com/python-send-email/) do site real python;"
   ]
  },
  {
   "cell_type": "markdown",
   "metadata": {},
   "source": [
    "### Um pouco mais sobre herança múltipla\n",
    "\n",
    "* Note que poderíamos ter usado composição ao invés de herança na classe EmailableContact:\n",
    "    * A classe EmailableContact poderia ter um objeto MailSender ao invés de herdar dele, o que faz muito mais sentido;\n",
    "* Herança Múltipla pode se tornar bastante confuso quando precisamos invocar métodos da superclasse, uma vez que existem múltiplas superclasses;\n",
    "    * Para explorar um pouco mais sobre esse assunto, vamos criar uma classe que modela objetos detentores de endereço:"
   ]
  },
  {
   "cell_type": "code",
   "execution_count": 30,
   "metadata": {},
   "outputs": [],
   "source": [
    "class AddressHolder:\n",
    "    def __init__(self, street, city, state, code):\n",
    "        self.street = street\n",
    "        self.city = city\n",
    "        self.state = state\n",
    "        self.code = code"
   ]
  },
  {
   "cell_type": "markdown",
   "metadata": {},
   "source": [
    "* Vamos usar a classe acima com pai da nossa classe Friend;\n",
    "* Entretanto, percebam que a classe Friend já herda de Contact e que usamos a palavra chave super para modificar um comportamento.\n",
    "    * Com herança múltipla, ao usar por exemplo, *super().\\_\\_init\\_\\_()* estamos nos referindo a qual das superclasses?\n",
    "    * Uma opção para tentar contornar esse problema é especificar a super classe e passar explicitamento o self como parâmetro no \\_\\_init\\_\\_() da superclasse, conforme segue:"
   ]
  },
  {
   "cell_type": "code",
   "execution_count": 31,
   "metadata": {},
   "outputs": [],
   "source": [
    "class Friend(Contact, AddressHolder):\n",
    "    def __init__(self, name, email, phone, street, city, state, code):\n",
    "        Contact.__init__(self, name, email)\n",
    "        AddressHolder.__init__(self, street, city, state, code)\n",
    "        self.phone = phone"
   ]
  },
  {
   "cell_type": "markdown",
   "metadata": {},
   "source": [
    "* O código acima funciona, mas é perigoso. \n",
    "* Veja o seguinte diagrama de classes:\n",
    "\n",
    "<img src=\"figures/class_diagram_mult_inheritance.png\"/>"
   ]
  },
  {
   "cell_type": "markdown",
   "metadata": {},
   "source": [
    "* Observe que:\n",
    "    * O método \\_\\_init\\_\\_() da classe Friends invoca o  \\_\\_init\\_\\_() de Contact, que implicitamente invoca o \\_\\_init\\_\\_() da classe Object;\n",
    "    * Subsequentemente, o método \\_\\_init\\_\\_() da classe Friends invoca o  \\_\\_init\\_\\_() de AddressHolder, que também implicitamente invoca o \\_\\_init\\_\\_() da classe Object;\n",
    "    * Assim, o \\_\\_init\\_\\_() da classe Object é chamado duas vezes;\n",
    "    * Para este cenário não há problema algum, mas imagine que no lugar de Object está a classe Database e no \\_\\_init\\_\\_() do Database temos uma conexão com o banco de dados;\n",
    "        * Faríamos a conexão duas vezes para cada requisição, o que pode ser desastroso;"
   ]
  },
  {
   "cell_type": "markdown",
   "metadata": {},
   "source": [
    "* Vejamos um segundo exemplo hipotético que ilustra esse problema mais claramente:\n",
    "    * Aqui temos uma classe base que possui um método chamado *call_me*;\n",
    "    * As subclasses LeftSubClass e RightSubClass herdam diretamente de BaseClass e sobreescrevem o método *call_me*;\n",
    "    * A classe Subclass herda de LeftSubClass e RightSubClass e também sobreescreve *call_me*;\n",
    "*  Isso é chamado de herança de diamante (diamond inheritance) devido à forma do diamante do diagrama de classes:\n",
    "\n",
    "<img src=\"figures/class_diagram_diamond.png\"/>"
   ]
  },
  {
   "cell_type": "markdown",
   "metadata": {},
   "source": [
    "* Vamos converter esse diagrama em código:"
   ]
  },
  {
   "cell_type": "code",
   "execution_count": 32,
   "metadata": {},
   "outputs": [],
   "source": [
    "class BaseClass:\n",
    "    num_base_calls = 0\n",
    "    def call_me(self):\n",
    "        print(\"Calling method on Base Class\")\n",
    "        self.num_base_calls += 1\n",
    "        \n",
    "class LeftSubclass(BaseClass):\n",
    "    num_left_calls = 0\n",
    "    def call_me(self):\n",
    "        BaseClass.call_me(self)#linha importante\n",
    "        print(\"Calling method on Left Subclass\")\n",
    "        self.num_left_calls += 1\n",
    "\n",
    "class RightSubclass(BaseClass):\n",
    "    num_right_calls = 0\n",
    "    def call_me(self):\n",
    "        BaseClass.call_me(self)#linha importante\n",
    "        print(\"Calling method on Right Subclass\")\n",
    "        self.num_right_calls += 1\n",
    "        \n",
    "class Subclass(LeftSubclass, RightSubclass):\n",
    "    num_sub_calls = 0\n",
    "    def call_me(self):\n",
    "        LeftSubclass.call_me(self)#linha importante\n",
    "        RightSubclass.call_me(self)#linha importante\n",
    "        print(\"Calling method on Subclass\")\n",
    "        self.num_sub_calls += 1"
   ]
  },
  {
   "cell_type": "markdown",
   "metadata": {},
   "source": [
    "* Vamos testar a nossa subclasse:"
   ]
  },
  {
   "cell_type": "code",
   "execution_count": 33,
   "metadata": {},
   "outputs": [
    {
     "name": "stdout",
     "output_type": "stream",
     "text": [
      "Calling method on Base Class\n",
      "Calling method on Left Subclass\n",
      "Calling method on Base Class\n",
      "Calling method on Right Subclass\n",
      "Calling method on Subclass\n",
      "1\n",
      "1\n",
      "1\n",
      "2\n"
     ]
    }
   ],
   "source": [
    "s = Subclass()\n",
    "s.call_me()\n",
    "print(s.num_sub_calls)\n",
    "print(s.num_left_calls)\n",
    "print(s.num_right_calls)\n",
    "print(s.num_base_calls)"
   ]
  },
  {
   "cell_type": "markdown",
   "metadata": {},
   "source": [
    "* Aqui podemos ver claramente a classe BaseClass sendo chamada duas vezes;\n",
    "* Apenas como mais uma demostração dos problemas que isso pode causar, imagine que esse método está realizando um depósito em um banco;"
   ]
  },
  {
   "cell_type": "markdown",
   "metadata": {},
   "source": [
    "* Podemos resolver isso usando o nosso **super**, que se encarregará de chamar o método da superclasse apenas uma vez;\n",
    "* Vamos reescrever nossa classe agora utilizando o super:"
   ]
  },
  {
   "cell_type": "code",
   "execution_count": 34,
   "metadata": {},
   "outputs": [],
   "source": [
    "class BaseClass:\n",
    "    num_base_calls = 0\n",
    "    def call_me(self):\n",
    "        print(\"Calling method on Base Class\")\n",
    "        self.num_base_calls += 1\n",
    "        \n",
    "class LeftSubclass(BaseClass):\n",
    "    num_left_calls = 0\n",
    "    def call_me(self):\n",
    "        super().call_me()#linha importante\n",
    "        print(\"Calling method on Left Subclass\")\n",
    "        self.num_left_calls += 1\n",
    "\n",
    "class RightSubclass(BaseClass):\n",
    "    num_right_calls = 0\n",
    "    def call_me(self):\n",
    "        super().call_me()#linha importante\n",
    "        print(\"Calling method on Right Subclass\")\n",
    "        self.num_right_calls += 1\n",
    "        \n",
    "class Subclass(LeftSubclass, RightSubclass):\n",
    "    num_sub_calls = 0\n",
    "    def call_me(self):\n",
    "        super().call_me()#linha importante\n",
    "        print(\"Calling method on Subclass\")\n",
    "        self.num_sub_calls += 1"
   ]
  },
  {
   "cell_type": "markdown",
   "metadata": {},
   "source": [
    "* Agora vamos novamente o nosso teste e perceba que a classe base só será chamada uma vez:"
   ]
  },
  {
   "cell_type": "code",
   "execution_count": 35,
   "metadata": {},
   "outputs": [
    {
     "name": "stdout",
     "output_type": "stream",
     "text": [
      "Calling method on Base Class\n",
      "Calling method on Right Subclass\n",
      "Calling method on Left Subclass\n",
      "Calling method on Subclass\n",
      "1\n",
      "1\n",
      "1\n",
      "1\n"
     ]
    }
   ],
   "source": [
    "s = Subclass()\n",
    "s.call_me()\n",
    "print(s.num_sub_calls)\n",
    "print(s.num_left_calls)\n",
    "print(s.num_right_calls)\n",
    "print(s.num_base_calls)"
   ]
  },
  {
   "cell_type": "markdown",
   "metadata": {},
   "source": [
    "Vale ressaltar como funcionou esse processo para que a classe base seja chamada apenas uma vez:\n",
    "* Primeiro foi invocado *call_me* da SubClass que chamou *super().call_me()*, que se refere a *LeftSubClass.call_me()*. \n",
    "* *LeftSubClass.call_me()*, por sua vez, chama *super().call_me()*, mas nesse caso, *super()* está se referindo a *RightSubclass.call_me()*;\n",
    "    * Assim sendo, o *call_me()* da *BaseClass* na verdade não está sendo chamado na classe *LeftSubClass*;\n",
    "    * Ao invés disso, ele é chamado na *RightSubClass*;"
   ]
  },
  {
   "cell_type": "markdown",
   "metadata": {},
   "source": [
    "### Conjunto diferentes de argumentos\n",
    "\n",
    "* Voltando para nossa classe *Friend*, temos uma chamada ao \\_\\_init\\_\\_() para ambas as superclasses;\n",
    "    * Entretatando o conjunto de argumentos passados são diferentes para cada superclasse, conforme segue: "
   ]
  },
  {
   "cell_type": "code",
   "execution_count": 36,
   "metadata": {},
   "outputs": [],
   "source": [
    "class Friend(Contact, AddressHolder):\n",
    "    def __init__(self, name, email, phone, street, city, state, code):\n",
    "        Contact.__init__(self, name, email) ## parâmetros diferentes\n",
    "        AddressHolder.__init__(self, street, city, state, code) ## parâmetros diferentes\n",
    "        self.phone = phone"
   ]
  },
  {
   "cell_type": "markdown",
   "metadata": {},
   "source": [
    "* Como podemos gerenciar diferentes conjuntos de argumentos com o **super**?\n",
    "    * Note que o que queremos é passar parâmetros adicionais nas subclasses;\n",
    "    * Assim, precisamos projetar a superclasse para que ela possa ser estendida com novos parâmetros inesperados;\n",
    "    * Para tanto, usaremos o **kwargs** na superclasse;\n",
    "    * Antes de usá-lo, vamos ver um exemplo de uso do kwargs em uma função para somar valores de um dicionário:"
   ]
  },
  {
   "cell_type": "code",
   "execution_count": 37,
   "metadata": {},
   "outputs": [
    {
     "name": "stdout",
     "output_type": "stream",
     "text": [
      "10\n"
     ]
    }
   ],
   "source": [
    "def soma_valores(**kwargs):\n",
    "    result = 0\n",
    "    for arg in kwargs.values():\n",
    "        result += arg\n",
    "    return result\n",
    "\n",
    "print(soma_valores(a=1, b=2, c=3, d=4))"
   ]
  },
  {
   "cell_type": "markdown",
   "metadata": {},
   "source": [
    "Note que \"a\", \"b\", \"c\" e \"d\" se tornaram chaves do dicionário kwargs, enquanto que 1, 2, 3 e 4 se tornaram os valores desse dicionário;\n",
    "* Isso quer dizer, que podemos acessar o valor 1 através do comando kwargs[\"a\"]:"
   ]
  },
  {
   "cell_type": "code",
   "execution_count": 38,
   "metadata": {},
   "outputs": [
    {
     "name": "stdout",
     "output_type": "stream",
     "text": [
      "1\n"
     ]
    }
   ],
   "source": [
    "# esse código só funciona se passarmos o 'a' como argumento:\n",
    "def exemplo_uso(**kwargs):\n",
    "    return kwargs[\"a\"]\n",
    "\n",
    "print(exemplo_uso(a=1))"
   ]
  },
  {
   "cell_type": "markdown",
   "metadata": {},
   "source": [
    "Voltando a nossas classes, vamos projetá-las para receber parâmetros inesperados no construtor utilizando o \\*\\*kwargs:"
   ]
  },
  {
   "cell_type": "code",
   "execution_count": 39,
   "metadata": {},
   "outputs": [],
   "source": [
    "class Contact:\n",
    "    all_contacts = []\n",
    "    \n",
    "    def __init__(self, name, email, **kwargs):\n",
    "        super().__init__(**kwargs)\n",
    "        self.name = name\n",
    "        self.email = email\n",
    "        self.all_contacts.append(self)\n",
    "        \n",
    "class AddressHolder:\n",
    "    def __init__(self, street='', city='', state='', code='', **kwargs):\n",
    "        super().__init__(**kwargs)\n",
    "        self.street = street\n",
    "        self.city = city\n",
    "        self.state = state\n",
    "        self.code = code\n",
    "        \n",
    "class Friend(Contact, AddressHolder):\n",
    "    def __init__(self, phone='', **kwargs):\n",
    "        super().__init__(**kwargs)\n",
    "        self.phone = phone"
   ]
  },
  {
   "cell_type": "markdown",
   "metadata": {},
   "source": [
    "* Ao instanciar um objeto da classe Friend, devemos obrigatoriamente passar os atributos *name* e *email*\n",
    "* Os outros atributos serão inicializados com uma string vazia \\'\\'\n",
    "* Veja abaixo dois objetos da classe Friend, onde f1 é inicializado apenas com os atributos obrigatórios e f2 é inicializado com todos os atributos possíveis:"
   ]
  },
  {
   "cell_type": "code",
   "execution_count": 40,
   "metadata": {},
   "outputs": [],
   "source": [
    "f1 = Friend(name='Fulano de Tal', email='fulano@gmail.com')"
   ]
  },
  {
   "cell_type": "code",
   "execution_count": 41,
   "metadata": {},
   "outputs": [],
   "source": [
    "f2 = Friend(name='Ciclano de Tal', email='ciclano@gmail.com', phone='2121-3131',\n",
    "           street='Ataide Teive', city='Boa Vista', state='Roraima',\n",
    "           code = '69300-000')"
   ]
  },
  {
   "cell_type": "code",
   "execution_count": 42,
   "metadata": {},
   "outputs": [
    {
     "data": {
      "text/plain": [
       "'Roraima'"
      ]
     },
     "execution_count": 42,
     "metadata": {},
     "output_type": "execute_result"
    }
   ],
   "source": [
    "f2.state"
   ]
  },
  {
   "cell_type": "markdown",
   "metadata": {},
   "source": [
    "### Nota sobre kwargs:\n",
    "\n",
    "* \\*\\*kwargs basicamente coleta todos os argumentos passados para o método que não foram listados explicitamente na lista de parâmetros.\n",
    "* esses argumentos são armazenados em um dicionário chamado kwargs (você pode colocar qualquer outro nome se quiser);\n",
    "* Quando chamamos um método diferente (por exemplo, super().\\_\\_init\\_\\_) com ** kwargs, descompacta-se o dicionário e são passados os resultados para o método como argumentos normais;"
   ]
  },
  {
   "cell_type": "markdown",
   "metadata": {},
   "source": [
    "* Voltando para a classe Friend, a pergunta que fica é:\n",
    "    * Quando instanciarmos um objeto da classe Friend, o que deve ser passado como parâmetro além do phone?\n",
    "        * Para responder isso é importe disponibilizar os atributos possíveis no docstring, do contrário o usuário da classe ficará confuso:"
   ]
  },
  {
   "cell_type": "code",
   "execution_count": 43,
   "metadata": {},
   "outputs": [
    {
     "ename": "TypeError",
     "evalue": "__init__() missing 2 required positional arguments: 'name' and 'email'",
     "output_type": "error",
     "traceback": [
      "\u001b[1;31m---------------------------------------------------------------------------\u001b[0m",
      "\u001b[1;31mTypeError\u001b[0m                                 Traceback (most recent call last)",
      "\u001b[1;32m<ipython-input-43-aeaf000434cf>\u001b[0m in \u001b[0;36m<module>\u001b[1;34m\u001b[0m\n\u001b[1;32m----> 1\u001b[1;33m \u001b[0mf\u001b[0m \u001b[1;33m=\u001b[0m \u001b[0mFriend\u001b[0m\u001b[1;33m(\u001b[0m\u001b[0mphone\u001b[0m\u001b[1;33m=\u001b[0m\u001b[1;34m'2121-3131'\u001b[0m\u001b[1;33m)\u001b[0m \u001b[1;31m# e o que mais?\u001b[0m\u001b[1;33m\u001b[0m\u001b[1;33m\u001b[0m\u001b[0m\n\u001b[0m",
      "\u001b[1;32m<ipython-input-39-5d7f0629b56f>\u001b[0m in \u001b[0;36m__init__\u001b[1;34m(self, phone, **kwargs)\u001b[0m\n\u001b[0;32m     18\u001b[0m \u001b[1;32mclass\u001b[0m \u001b[0mFriend\u001b[0m\u001b[1;33m(\u001b[0m\u001b[0mContact\u001b[0m\u001b[1;33m,\u001b[0m \u001b[0mAddressHolder\u001b[0m\u001b[1;33m)\u001b[0m\u001b[1;33m:\u001b[0m\u001b[1;33m\u001b[0m\u001b[1;33m\u001b[0m\u001b[0m\n\u001b[0;32m     19\u001b[0m     \u001b[1;32mdef\u001b[0m \u001b[0m__init__\u001b[0m\u001b[1;33m(\u001b[0m\u001b[0mself\u001b[0m\u001b[1;33m,\u001b[0m \u001b[0mphone\u001b[0m\u001b[1;33m=\u001b[0m\u001b[1;34m''\u001b[0m\u001b[1;33m,\u001b[0m \u001b[1;33m**\u001b[0m\u001b[0mkwargs\u001b[0m\u001b[1;33m)\u001b[0m\u001b[1;33m:\u001b[0m\u001b[1;33m\u001b[0m\u001b[1;33m\u001b[0m\u001b[0m\n\u001b[1;32m---> 20\u001b[1;33m         \u001b[0msuper\u001b[0m\u001b[1;33m(\u001b[0m\u001b[1;33m)\u001b[0m\u001b[1;33m.\u001b[0m\u001b[0m__init__\u001b[0m\u001b[1;33m(\u001b[0m\u001b[1;33m**\u001b[0m\u001b[0mkwargs\u001b[0m\u001b[1;33m)\u001b[0m\u001b[1;33m\u001b[0m\u001b[1;33m\u001b[0m\u001b[0m\n\u001b[0m\u001b[0;32m     21\u001b[0m         \u001b[0mself\u001b[0m\u001b[1;33m.\u001b[0m\u001b[0mphone\u001b[0m \u001b[1;33m=\u001b[0m \u001b[0mphone\u001b[0m\u001b[1;33m\u001b[0m\u001b[1;33m\u001b[0m\u001b[0m\n",
      "\u001b[1;31mTypeError\u001b[0m: __init__() missing 2 required positional arguments: 'name' and 'email'"
     ]
    }
   ],
   "source": [
    "f = Friend(phone='2121-3131') # e o que mais?"
   ]
  },
  {
   "cell_type": "markdown",
   "metadata": {},
   "source": [
    "Por fim, herança múltipla pode ser útil, mas em muitos casos é mais apropriado combinar classes usando composição ou um dos design patters que veremos nas próximas aulas;"
   ]
  },
  {
   "cell_type": "markdown",
   "metadata": {},
   "source": [
    "## Polimorfismo\n",
    "\n",
    "* Como vimos na primeira aula, polimorfismo é a capacidade do objeto de uma subclasse ser referenciado como uma superclasse para que, dependendo da subclasse, posso haver comportamentos diferentes.\n",
    "    * Em outras palavras, diferentes comportamentos podem ocorrer depedendo de qual subclasse está sendo usada, onde não existe a necessidade de sabermos explicitamente que subclasse é essa;  "
   ]
  },
  {
   "cell_type": "markdown",
   "metadata": {},
   "source": [
    "* Como um exemplo, imagine um programa que toca um arquivo de áudio;\n",
    "* Um *player* precisará carregar um objeto *AudioFile* e tocá-lo;\n",
    "    * Para tanto, deverá existe um método *play* na classe *AudioFile*;\n",
    "* O player basicamente executará o seguinte comando: "
   ]
  },
  {
   "cell_type": "code",
   "execution_count": null,
   "metadata": {},
   "outputs": [],
   "source": [
    "audio_file.play()"
   ]
  },
  {
   "cell_type": "markdown",
   "metadata": {},
   "source": [
    "* No entanto, o processo de compactação e extração de um arquivo de áudio é muito diferente para diferentes tipos de arquivos.\n",
    "* Os arquivos .wav são armazenados descompactados, enquanto os arquivos .mp3, .wma e .ogg possuem algoritmos de compactação totalmente diferentes.\n",
    "* Podemos usar polimorfismo e herança para facilitar o processo:\n",
    "    * Cada tipo de arquivo pode ser uma subclasse de AudioFile;\n",
    "    * Cada subclasse deve ter o método *play*, mas esse método será diferente em cada subclasse;\n",
    "    * O objeto media player nunca saberá que a subclasse do AudioFile está sendo referenciada;\n",
    "    * O objeto media player apenas irá chamar o método play() e o polimorfismo irá se encarregar dos detalhes de como realizer o play;\n",
    "* Vamos codificar isso:"
   ]
  },
  {
   "cell_type": "code",
   "execution_count": 44,
   "metadata": {},
   "outputs": [],
   "source": [
    "class AudioFile:\n",
    "    def __init__(self, filename):\n",
    "        if not filename.endswith(self.ext):\n",
    "            raise Exception(\"Invalid file format\")\n",
    "        self.filename = filename\n",
    "            \n",
    "class MP3File(AudioFile):\n",
    "    ext = \"mp3\"\n",
    "    def play(self):\n",
    "        print(\"tocando {} como mp3\".format(self.filename))\n",
    "        \n",
    "class WavFile(AudioFile):\n",
    "    ext = \"wav\"\n",
    "    def play(self):\n",
    "        print(\"tocando {} como wav\".format(self.filename))\n",
    "        \n",
    "class OggFile(AudioFile):\n",
    "    ext = \"ogg\"\n",
    "    def play(self):\n",
    "        print(\"tocando {} como ogg\".format(self.filename))"
   ]
  },
  {
   "cell_type": "markdown",
   "metadata": {},
   "source": [
    "* Todos os arquivos de áudio são verificados para garantir que uma extensão válida seja fornecida na inicialização;\n",
    "* Agora observe como o método \\_\\_init\\_\\_ da super classe *AudioFile* fez para acessar a extensão do arquivo (*self.ext*);\n",
    "    * Isso é polimorfismo. Se o nome do arquivo não terminar com o extensão correta, será gerada uma exceção (esse assunto será tratado na próxima aula);\n",
    "* Além disso, cada subclasse de AudioFile implementa o método *play()* de uma maneira diferente;\n",
    "    * Isso também é polimorfismo;\n",
    "    * O *media player* pode usar exatamente o mesmo código (audio_file.play()) para reproduzir um arquivo de áudio, independentemente do tipo; \n",
    "    * Não importa qual subclasse de AudioFile.\n",
    "* Vamos testar o código:"
   ]
  },
  {
   "cell_type": "code",
   "execution_count": 45,
   "metadata": {},
   "outputs": [
    {
     "name": "stdout",
     "output_type": "stream",
     "text": [
      "tocando myfile.ogg como ogg\n"
     ]
    }
   ],
   "source": [
    "ogg = OggFile(\"myfile.ogg\")\n",
    "ogg.play()"
   ]
  },
  {
   "cell_type": "code",
   "execution_count": 46,
   "metadata": {},
   "outputs": [
    {
     "name": "stdout",
     "output_type": "stream",
     "text": [
      "tocando myfile.mp3 como mp3\n"
     ]
    }
   ],
   "source": [
    "mp3 = MP3File(\"myfile.mp3\")\n",
    "mp3.play()"
   ]
  },
  {
   "cell_type": "code",
   "execution_count": 47,
   "metadata": {},
   "outputs": [
    {
     "ename": "Exception",
     "evalue": "Invalid file format",
     "output_type": "error",
     "traceback": [
      "\u001b[1;31m---------------------------------------------------------------------------\u001b[0m",
      "\u001b[1;31mException\u001b[0m                                 Traceback (most recent call last)",
      "\u001b[1;32m<ipython-input-47-80a298705989>\u001b[0m in \u001b[0;36m<module>\u001b[1;34m\u001b[0m\n\u001b[1;32m----> 1\u001b[1;33m \u001b[0mnot_an_mp3\u001b[0m \u001b[1;33m=\u001b[0m \u001b[0mMP3File\u001b[0m\u001b[1;33m(\u001b[0m\u001b[1;34m\"myfile.ogg\"\u001b[0m\u001b[1;33m)\u001b[0m\u001b[1;33m\u001b[0m\u001b[1;33m\u001b[0m\u001b[0m\n\u001b[0m",
      "\u001b[1;32m<ipython-input-44-0714db3a359a>\u001b[0m in \u001b[0;36m__init__\u001b[1;34m(self, filename)\u001b[0m\n\u001b[0;32m      2\u001b[0m     \u001b[1;32mdef\u001b[0m \u001b[0m__init__\u001b[0m\u001b[1;33m(\u001b[0m\u001b[0mself\u001b[0m\u001b[1;33m,\u001b[0m \u001b[0mfilename\u001b[0m\u001b[1;33m)\u001b[0m\u001b[1;33m:\u001b[0m\u001b[1;33m\u001b[0m\u001b[1;33m\u001b[0m\u001b[0m\n\u001b[0;32m      3\u001b[0m         \u001b[1;32mif\u001b[0m \u001b[1;32mnot\u001b[0m \u001b[0mfilename\u001b[0m\u001b[1;33m.\u001b[0m\u001b[0mendswith\u001b[0m\u001b[1;33m(\u001b[0m\u001b[0mself\u001b[0m\u001b[1;33m.\u001b[0m\u001b[0mext\u001b[0m\u001b[1;33m)\u001b[0m\u001b[1;33m:\u001b[0m\u001b[1;33m\u001b[0m\u001b[1;33m\u001b[0m\u001b[0m\n\u001b[1;32m----> 4\u001b[1;33m             \u001b[1;32mraise\u001b[0m \u001b[0mException\u001b[0m\u001b[1;33m(\u001b[0m\u001b[1;34m\"Invalid file format\"\u001b[0m\u001b[1;33m)\u001b[0m\u001b[1;33m\u001b[0m\u001b[1;33m\u001b[0m\u001b[0m\n\u001b[0m\u001b[0;32m      5\u001b[0m         \u001b[0mself\u001b[0m\u001b[1;33m.\u001b[0m\u001b[0mfilename\u001b[0m \u001b[1;33m=\u001b[0m \u001b[0mfilename\u001b[0m\u001b[1;33m\u001b[0m\u001b[1;33m\u001b[0m\u001b[0m\n\u001b[0;32m      6\u001b[0m \u001b[1;33m\u001b[0m\u001b[0m\n",
      "\u001b[1;31mException\u001b[0m: Invalid file format"
     ]
    }
   ],
   "source": [
    "not_an_mp3 = MP3File(\"myfile.ogg\")"
   ]
  },
  {
   "cell_type": "markdown",
   "metadata": {},
   "source": [
    "## Duck Typing\n",
    "\n",
    "* Como foi visto na primeira aula, **Duck Typing** em Python nos permite usar qualquer objeto que forneça o comportamento necessário sem forçá-lo a ser uma subclasse;\n",
    "    * A classe do objeto não importa, o objeto só precisa fornecer o comportamento necessário.\n",
    "    * Lembrando: \"se anda como pato, nada como um pato e faz quack como um pato, então provavelmente é um pato\";\n",
    "* Veja um exemplo abaixo de uso de duck typing:"
   ]
  },
  {
   "cell_type": "code",
   "execution_count": 68,
   "metadata": {},
   "outputs": [],
   "source": [
    "class ATM:\n",
    "    def realizar_operacao(self, operacao):\n",
    "        operacao.realizar()"
   ]
  },
  {
   "cell_type": "markdown",
   "metadata": {},
   "source": [
    "* O método realizar operaçao, não sabe a classe do objeto operação;\n",
    "    * O único requesito é que este objeto saiba **realizar** uma operação;\n",
    "* Vamos para um exemplo prático de uso deste método;\n",
    "* Para tanto, criaremos algumas classes que poderiam ser projetadas de outra forma, mas neste momento nosso intuito é aprender duck typing ;-)"
   ]
  },
  {
   "cell_type": "code",
   "execution_count": 78,
   "metadata": {},
   "outputs": [],
   "source": [
    "class Conta:\n",
    "    def __init__(self, agencia, numero):\n",
    "        self.agencia = agencia\n",
    "        self.numero = numero\n",
    "        self.saldo = 0.0\n",
    "    \n",
    "    def sacar(self, valor):\n",
    "        if valor>self.saldo or valor<0.0:\n",
    "            raise Exception(\"Saque:: Valor Inválido\")\n",
    "        self.saldo -= valor\n",
    "        \n",
    "    def depositar(self, valor):\n",
    "        if valor<0.0:\n",
    "            raise Exception(\"Depósito:: Valor Negativo\")\n",
    "        self.saldo += valor        \n",
    "\n",
    "class Transferencia:\n",
    "    def __init__(self, conta_origem, conta_destino, valor):\n",
    "        self.conta_origem = conta_origem\n",
    "        self.conta_destino = conta_destino\n",
    "        self.valor = valor\n",
    "    \n",
    "    def realizar(self):\n",
    "        self.conta_origem.sacar(self.valor)\n",
    "        self.conta_destino.depositar(self.valor)\n",
    "\n",
    "class Deposito:\n",
    "    def __init__(self, conta_destino, valor):\n",
    "        self.conta_destino = conta_destino\n",
    "        self.valor = valor\n",
    "    \n",
    "    def realizar(self):\n",
    "        self.conta_destino.depositar(self.valor)"
   ]
  },
  {
   "cell_type": "markdown",
   "metadata": {},
   "source": [
    "* Primeiramente, vamos instanciar alguns objetos da classe Conta:"
   ]
  },
  {
   "cell_type": "code",
   "execution_count": 73,
   "metadata": {},
   "outputs": [],
   "source": [
    "c1 = Conta(\"2121-3\", \"31314-0\")\n",
    "c1.depositar(2000)\n",
    "c2 = Conta(\"2121-3\", \"31314-0\")\n",
    "c2.depositar(10000)"
   ]
  },
  {
   "cell_type": "markdown",
   "metadata": {},
   "source": [
    "* Agora vamos criar um ATM e realizar uma operação de transferência:"
   ]
  },
  {
   "cell_type": "code",
   "execution_count": 74,
   "metadata": {},
   "outputs": [],
   "source": [
    "atm = ATM()\n",
    "atm.realizar_operacao(Transferencia(c2, c1, 1000))"
   ]
  },
  {
   "cell_type": "code",
   "execution_count": 75,
   "metadata": {},
   "outputs": [
    {
     "name": "stdout",
     "output_type": "stream",
     "text": [
      "3000.0\n",
      "9000.0\n"
     ]
    }
   ],
   "source": [
    "print(c1.saldo)\n",
    "print(c2.saldo)"
   ]
  },
  {
   "cell_type": "markdown",
   "metadata": {},
   "source": [
    "* Agora vamos realizar uma operação de depósito:"
   ]
  },
  {
   "cell_type": "code",
   "execution_count": 76,
   "metadata": {},
   "outputs": [],
   "source": [
    "atm.realizar_operacao(Deposito(c1, 2000.00))"
   ]
  },
  {
   "cell_type": "code",
   "execution_count": 77,
   "metadata": {},
   "outputs": [
    {
     "name": "stdout",
     "output_type": "stream",
     "text": [
      "5000.0\n"
     ]
    }
   ],
   "source": [
    "print(c1.saldo)"
   ]
  },
  {
   "cell_type": "markdown",
   "metadata": {},
   "source": [
    "* Note que o método *realizar_operação* da classe ATM nem sabe que tipo de objeto ele está recebendo, o único requisito é saber realizar a operação;"
   ]
  },
  {
   "cell_type": "markdown",
   "metadata": {},
   "source": [
    "* Agora, voltanto ao nosso exemplo de AudioFile, a classe a seguir não estende da classe AudioFile, mas pode ser tocado no media player pois usa a mesma interface:"
   ]
  },
  {
   "cell_type": "code",
   "execution_count": null,
   "metadata": {},
   "outputs": [],
   "source": [
    "class FlacFile:\n",
    "    def __init__(self, filename):\n",
    "        if not filename.endswith(\".flac\"):\n",
    "            raise Exception(\"Invalid file format\")\n",
    "        self.filename = filename\n",
    "    def play(self):\n",
    "        print(\"playing {} as flac\".format(self.filename))"
   ]
  },
  {
   "cell_type": "markdown",
   "metadata": {},
   "source": [
    "### Notas:\n",
    "\n",
    "*  O polimorfismo é uma das razões mais importantes para usar a herança em muitos contextos orientados a objetos.\n",
    "* Como qualquer objeto que forneça a interface correta pode ser usado de forma intercambiável em Python, reduz-se a necessidade superclasses pensadas para realizar polimorfismo.\n",
    "* A herança ainda pode ser útil para o compartilhamento de código, mas, se tudo o que está sendo compartilhado é a interface pública, o Duck Typing é a técnica apropriada em python.\n",
    "    * Isso reduz a necessidade de herança simples e múltipla;\n",
    "    * Normalmente hernaça múltipla pode ser simulada com Duck Typing;"
   ]
  },
  {
   "cell_type": "markdown",
   "metadata": {},
   "source": [
    "## Classes Abstratas\n",
    "\n"
   ]
  },
  {
   "cell_type": "markdown",
   "metadata": {},
   "source": [
    "* Apesar do Duck Typing ser bastante útil, nem sempre é fácil saber com antecedência se uma classe vai cumprir o protocolo estabelecido na \"interface\".\n",
    "* Classes abstratas (Abstract Base Class - ABCs) definem um conjunto de métodos e propriedades que uma subclasse deve implementar para ser considerada uma instância duck typing;\n",
    "    * Uma classe torna-se uma subclasse da ABC ao fornecer a implementação de todos os métodos abstratos definidos na ABC."
   ]
  },
  {
   "cell_type": "markdown",
   "metadata": {},
   "source": [
    "### Usando uma classe abstrata\n",
    "\n",
    "* A maioria das classes abstratas que já existem na biblioteca padrão do python estão no módulo *collections*;\n",
    "    * Vemos inspecionar quais são os métodos abstratos da classe abstrata Container:"
   ]
  },
  {
   "cell_type": "code",
   "execution_count": 5,
   "metadata": {},
   "outputs": [
    {
     "data": {
      "text/plain": [
       "frozenset({'__contains__'})"
      ]
     },
     "execution_count": 5,
     "metadata": {},
     "output_type": "execute_result"
    }
   ],
   "source": [
    "from collections import Container\n",
    "Container.__abstractmethods__"
   ]
  },
  {
   "cell_type": "markdown",
   "metadata": {},
   "source": [
    "* Como podemos ver, a classe Container só tem o método abstrato *\\_\\_contains\\_\\_*;\n",
    "* Vamos usar o comando help para verificar a assinatura deste método:"
   ]
  },
  {
   "cell_type": "code",
   "execution_count": 6,
   "metadata": {},
   "outputs": [
    {
     "name": "stdout",
     "output_type": "stream",
     "text": [
      "Help on function __contains__ in module collections.abc:\n",
      "\n",
      "__contains__(self, x)\n",
      "\n"
     ]
    }
   ],
   "source": [
    "help(Container.__contains__)"
   ]
  },
  {
   "cell_type": "markdown",
   "metadata": {},
   "source": [
    "* A assinatura não é tão informatimava, mas podemos concluir intuitivamente que o *x* é o valor passado para verificar se ele está dentro do Container;\n",
    "* Esse método é implementado, por exemplo, pelas classes *list*, *str* e *dict* para indicar se um dado valor está ou não presente na estrutura de dados;\n",
    "* Entretanto, apenas para fins didáticos, vamos implementar um Container bem simples que verifica se um dado valor é do tipo inteiro e se ele é par:"
   ]
  },
  {
   "cell_type": "code",
   "execution_count": 7,
   "metadata": {},
   "outputs": [],
   "source": [
    "class OddContainer:\n",
    "    def __contains__(self, x):\n",
    "        if isinstance(x, int) and x%2==0:\n",
    "            return True\n",
    "        return False"
   ]
  },
  {
   "cell_type": "markdown",
   "metadata": {},
   "source": [
    "* Vamos testar o método *\\_\\_contains\\_\\_* do nosso Container de valores pares:"
   ]
  },
  {
   "cell_type": "code",
   "execution_count": 8,
   "metadata": {},
   "outputs": [
    {
     "data": {
      "text/plain": [
       "True"
      ]
     },
     "execution_count": 8,
     "metadata": {},
     "output_type": "execute_result"
    }
   ],
   "source": [
    "odd_container = OddContainer()\n",
    "odd_container.__contains__(2)"
   ]
  },
  {
   "cell_type": "code",
   "execution_count": 9,
   "metadata": {},
   "outputs": [
    {
     "data": {
      "text/plain": [
       "False"
      ]
     },
     "execution_count": 9,
     "metadata": {},
     "output_type": "execute_result"
    }
   ],
   "source": [
    "odd_container.__contains__('teste')"
   ]
  },
  {
   "cell_type": "markdown",
   "metadata": {},
   "source": [
    "* Agora note que ao implementar o método *\\_\\_contains\\_\\_* nossa classe passar a ser um Container (duck typing):"
   ]
  },
  {
   "cell_type": "code",
   "execution_count": 10,
   "metadata": {},
   "outputs": [
    {
     "data": {
      "text/plain": [
       "True"
      ]
     },
     "execution_count": 10,
     "metadata": {},
     "output_type": "execute_result"
    }
   ],
   "source": [
    "isinstance(odd_container, Container)"
   ]
  },
  {
   "cell_type": "markdown",
   "metadata": {},
   "source": [
    "* Nosso OddContainer é uma subclasse de Container (duck typing):"
   ]
  },
  {
   "cell_type": "code",
   "execution_count": 11,
   "metadata": {},
   "outputs": [
    {
     "data": {
      "text/plain": [
       "True"
      ]
     },
     "execution_count": 11,
     "metadata": {},
     "output_type": "execute_result"
    }
   ],
   "source": [
    "issubclass(OddContainer, Container)"
   ]
  },
  {
   "cell_type": "markdown",
   "metadata": {},
   "source": [
    "* Seguindo a filosofia do *duck typing*, se a classe tem o método *\\_\\_contains\\_\\_*, então ela é um Container ;-)\n",
    "* Isso torna duck typing uma alternativa em tanto se comparada ao polimorfismo clássico que depende da herança;"
   ]
  },
  {
   "cell_type": "markdown",
   "metadata": {},
   "source": [
    "### Nota\n",
    "\n",
    "* Algo interessante é que do Container ABC é que a palavra chave **in** do python nada mais é do que um *syntax sugar* do método \\_\\_contains\\_\\_;\n",
    "    * Assim sendo, qualquer classe que implementar o \\_\\_contains\\_\\_ é um Container e, portanto, pode usar o **in** conforme segue:"
   ]
  },
  {
   "cell_type": "code",
   "execution_count": 11,
   "metadata": {},
   "outputs": [
    {
     "data": {
      "text/plain": [
       "True"
      ]
     },
     "execution_count": 11,
     "metadata": {},
     "output_type": "execute_result"
    }
   ],
   "source": [
    "10 in odd_container"
   ]
  },
  {
   "cell_type": "code",
   "execution_count": 16,
   "metadata": {},
   "outputs": [
    {
     "data": {
      "text/plain": [
       "False"
      ]
     },
     "execution_count": 16,
     "metadata": {},
     "output_type": "execute_result"
    }
   ],
   "source": [
    "1 in odd_container"
   ]
  },
  {
   "cell_type": "code",
   "execution_count": 17,
   "metadata": {},
   "outputs": [
    {
     "data": {
      "text/plain": [
       "False"
      ]
     },
     "execution_count": 17,
     "metadata": {},
     "output_type": "execute_result"
    }
   ],
   "source": [
    "'uma string qualquer' in odd_container"
   ]
  },
  {
   "cell_type": "markdown",
   "metadata": {},
   "source": [
    "### Criando nossas próprias ABCs\n",
    "\n",
    "* Como vimos anteriormente, não é necessário criar uma ABC para permitir o uso do duck typing;\n",
    "* No entanto, imagine que imagine que queremos criar um media player com plugins de terceiros.\n",
    "* É recomendável criar uma ABC para documentar qual API os plug-ins de terceiros devem fornecer.\n",
    "    * Vejamos como fazer isso:"
   ]
  },
  {
   "cell_type": "code",
   "execution_count": 18,
   "metadata": {},
   "outputs": [],
   "source": [
    "import abc\n",
    "\n",
    "class MediaLoader(metaclass=abc.ABCMeta):\n",
    "    @abc.abstractmethod\n",
    "    def play(self):\n",
    "        pass\n",
    "    \n",
    "    @abc.abstractproperty\n",
    "    def ext(self):\n",
    "        pass\n",
    "    \n",
    "    @classmethod\n",
    "    def __subclasshook__(cls, C):\n",
    "        if cls is MediaLoader:\n",
    "            attrs = set(dir(C))\n",
    "            if set(cls.__abstractmethods__) <= attrs:\n",
    "                return True\n",
    "            \n",
    "            return NotImplemented"
   ]
  },
  {
   "cell_type": "markdown",
   "metadata": {},
   "source": [
    "* Este é um exemplo complicado, onde alguns recursos serão explicados posteriormente;\n",
    "    * Nota: você não precisa entender tudo isso para ter uma ideia de como criar sua própria ABC.\n",
    "* De modo bem superficial, ao usar *metaclass=abc.ABCMeta* na linha 3, estamos dando à classe MediaLoader poderes de superclasse;\n",
    "* A seguir usamos os decarators *@abc.abstractmethod* e *@abc.abstractproperty* para impor que subclasses desta superclasse deve fornecer implementação para esse método/propriedade;\n",
    "    * Veja abaixo o que acontece se não fornecermos implementações para esse método e propriedade:"
   ]
  },
  {
   "cell_type": "code",
   "execution_count": 19,
   "metadata": {},
   "outputs": [],
   "source": [
    "class Wav(MediaLoader):\n",
    "    pass"
   ]
  },
  {
   "cell_type": "code",
   "execution_count": 20,
   "metadata": {},
   "outputs": [
    {
     "ename": "TypeError",
     "evalue": "Can't instantiate abstract class Wav with abstract methods ext, play",
     "output_type": "error",
     "traceback": [
      "\u001b[0;31m---------------------------------------------------------------------------\u001b[0m",
      "\u001b[0;31mTypeError\u001b[0m                                 Traceback (most recent call last)",
      "\u001b[0;32m<ipython-input-20-3bef4301f672>\u001b[0m in \u001b[0;36m<module>\u001b[0;34m\u001b[0m\n\u001b[0;32m----> 1\u001b[0;31m \u001b[0mx\u001b[0m \u001b[0;34m=\u001b[0m \u001b[0mWav\u001b[0m\u001b[0;34m(\u001b[0m\u001b[0;34m)\u001b[0m\u001b[0;34m\u001b[0m\u001b[0;34m\u001b[0m\u001b[0m\n\u001b[0m",
      "\u001b[0;31mTypeError\u001b[0m: Can't instantiate abstract class Wav with abstract methods ext, play"
     ]
    }
   ],
   "source": [
    "x = Wav()"
   ]
  },
  {
   "cell_type": "markdown",
   "metadata": {},
   "source": [
    "* Como a classe Wav não fornece as implementações dos itens abstratos, então ela no pode ser instanciada;\n",
    "    * Nesse caso, ao não fornecer tais implementações Wav se torna uma classe abstrata também e **classes abstratas não podem ser instanciadas**;\n",
    "* Agora, como contraexemplo, vamos criar uma classe que implementa o método e a propriedade abstrata:"
   ]
  },
  {
   "cell_type": "code",
   "execution_count": 21,
   "metadata": {},
   "outputs": [],
   "source": [
    "class Ogg(MediaLoader):\n",
    "    ext = '.ogg'\n",
    "    \n",
    "    def play(self):\n",
    "        pass"
   ]
  },
  {
   "cell_type": "code",
   "execution_count": 22,
   "metadata": {},
   "outputs": [],
   "source": [
    "o = Ogg()"
   ]
  },
  {
   "cell_type": "markdown",
   "metadata": {},
   "source": [
    "* Voltando a nossa classe abstrata MediaLoader, vamos analisar o método *\\_\\_subclasshook\\_\\_*;\n",
    "    * Esse é o método que informa que qualquer classe que fornecer uma implementação concreta de todos os itens abstratos da classe MediaLoader é uma subclasse de MediaLoader, **mesmo se a subclasse não herdar de MediaLoader**;\n",
    "* Linguagens orientadas a objetos mais comuns têm uma clara separação entre a interface e a implementação de uma classe.\n",
    "    *  Por exemplo, algumas linguagens de programação fornecem uma palavra-chave **interface** que nos permite definir os métodos que uma classe deve ter sem nenhuma implementação.\n",
    "    * Nesse tipo de linguagem, normalmente uma classe abstrata é aquela que fornece uma interface e uma implementação concreta de alguns métodos, mas não de todos os métodos.\n",
    "* Os ABCs do Python ajudam a fornecer a funcionalidade das interfaces sem comprometer os benefícios do duck typing;"
   ]
  },
  {
   "cell_type": "markdown",
   "metadata": {},
   "source": [
    "### Um pouco mais sobre a classe MediaLoader\n",
    "\n"
   ]
  },
  {
   "cell_type": "markdown",
   "metadata": {},
   "source": [
    "**@classmethod** é um decarator que para marcar um método como método de classe;\n",
    "* Isso significa que o método pode ser invocado diretamente pela classe, ao invés de por uma objeto instanciado pela classe;\n",
    "* Outras linguagens de programação como o java chamam **@classmethod** de métodos estáticos;"
   ]
  },
  {
   "cell_type": "markdown",
   "metadata": {},
   "source": [
    "**def \\_\\_subclasshook\\_\\_(cls, C):**\n",
    "* Define o método de classe \\_\\_subclasshook\\_\\_(cls, C), que é um método especial invocado pelo interpretador do Python para responder se uma determinada classe C é uma subclasse desta classe."
   ]
  },
  {
   "cell_type": "markdown",
   "metadata": {},
   "source": [
    "**if cls is MediaLoader:**\n",
    "* Verifica se quem está chamando esse método é a classe MediaLoader, ou por exemplo uma subclasse dela;\n",
    "    * Isso previne, por exemplo, que a classe Wav seja interpretada como a superclasse da classe Ogg;"
   ]
  },
  {
   "cell_type": "markdown",
   "metadata": {},
   "source": [
    "**attrs = set(dir(C))**\n",
    "*  Tudo o que essa linha faz é obter o conjunto de métodos e propriedades que a classe possui, incluindo quaisquer classes pai em sua hierarquia de classes;"
   ]
  },
  {
   "cell_type": "markdown",
   "metadata": {},
   "source": [
    "**if set(cls.__abstractmethods__) <= attrs**\n",
    "*  Esta linha usa a notação de conjunto para verificar se o conjunto de métodos abstratos nesta classe foram fornecidos na classe candidata.\n",
    "* Observe que não é checado se eles foram implementados, mas apenas se eles estão lá.\n",
    "    * Isso porque uma subclasse desta classe pode também ser abstrata;"
   ]
  },
  {
   "cell_type": "markdown",
   "metadata": {},
   "source": [
    "**return True**\n",
    "* Se todos os métodos abstratos foram fornecidos pela subclasse, então a classe candidata é uma subclasse e será retornado True;\n",
    "    * Observe que o método pode retornar True, False ou NotImplemented, onde True ou False indicam se a classe é ou não uma subclasse. NotImplemented significa que a classe deixou de implementar um ou mais itens abstratos como métodos ou propriedades;"
   ]
  },
  {
   "cell_type": "markdown",
   "metadata": {},
   "source": [
    "## Estudo de Caso\n",
    "\n",
    "* Para colocar tudo o que aprendemos hoje em prática em um caso de uso;\n",
    "* Modelaremos uma aplicação que permite que agentes gerenciem propriedades disponíveis para venda e aluguel;\n",
    "* Existirão dois tipos de propriedades: apartamentos e casas;\n",
    "* O agente poderá: \n",
    "    * fornecer detalhes relevantes sobre novas propriedades;\n",
    "    * listar todas as propriedades disponíveis;\n",
    "    * marcar uma propriedade como vendida ou alugada;\n",
    "* Por fins de simplicidade, não nos preocuparemos em editar detalhes da propriedade ou reativar uma propriedade depois de vendida."
   ]
  },
  {
   "cell_type": "markdown",
   "metadata": {},
   "source": [
    "* Note que na nossa descrição de requisitos, foram mencionados alguns substativos;\n",
    "    * Lembre-se que substantivos são potenciais classes en projetos orientados a objetos;\n",
    "* Nesta aula estudamos herança, então vamos pensar em formas de usá-la;\n",
    "* Casa (*House*) e Apartamento (*Apartment*) são tipos de Propriedades (*Property*);\n",
    "    * Nesse sentido, Propriedade é uma potencial superclasse para Casa e Apartamento;\n",
    "* Agora vamos forçar um pouco a barra para usar herança nas classes Aluguel (*Rental*) e Compra (*Purchase*);\n",
    "    * Criaremos classes separadas como por exemplo *HouseRental* e *HousePurchase* e usaremos herança múltipla, fazendo com que *HouseRental* herde de *House* e *Rental*;\n",
    "        * Faremos analogamente para *HousePurchase*, *ApartmentRental*, *ApartmentPurchase*;\n",
    "* Observe que poderíamos criar um projeto menos \"desajeitado\" usando composição e associações para não ter que usar principalmente herança múltipla; \n",
    "* Entretanto, queremos praticar os conceitos aprendidos nesta aula ;-)"
   ]
  },
  {
   "cell_type": "markdown",
   "metadata": {},
   "source": [
    "* Em relação aos atributos, a classe *Property* deve ter:\n",
    "    * *square_footage*: relacionado ao tamanho da propriedade;\n",
    "    * *number_of_bedrooms*: número de quartos;\n",
    "    * *number_of_bathrooms*: número de banheiros;\n",
    "    * etc (por fins de simplicidade vamos parar por aqui).\n",
    "* Já a classe House deve ter:\n",
    "    * number_of_stories: número de andares;\n",
    "    * garage: se tem uma garagem e ela é dentro do quintal, fora ou se não tem;\n",
    "    * fanced_yard: se o quintal é cercado;\n",
    "* A classe Apartment deve ter:\n",
    "    * balcony: se tem ou não uma varanda;\n",
    "    * laundry: se a lavenderia fica no apartamento (ensuite), ou fora com sistema de pagamento com moedas (coin laundry) ou se fica fora (off-site);\n",
    "\n",
    "Note que ambas as propriedades precisarão de um método para mostrar as suas características;"
   ]
  },
  {
   "cell_type": "markdown",
   "metadata": {},
   "source": [
    "* A classe RetalProperty precisará de atributos para:\n",
    "    * rent: atributo para guardar o valor do aluguel;\n",
    "    * furnished: para informar se a propriedade é ou não mobiliada;\n",
    "    * utilities: contas a pagar (águal, luz, internet e etc);\n",
    "* Já a classe PurchaseProperty precisará de:\n",
    "    * purchase_price: valor do imóvel;\n",
    "    * taxes: valor das taxas anuais;\n",
    "* Usaremos o método *display()* para apresentar as informações relevantes das classes;"
   ]
  },
  {
   "cell_type": "markdown",
   "metadata": {},
   "source": [
    "* Finalmente, precisaremos de uma classe *Agent*, que possui:\n",
    "    * property_list: lista de propriedades que ele agencia;\n",
    "* Além disso, o Agent precisará de um método para listar propriedades e outro para adicionar novas propriedades."
   ]
  },
  {
   "cell_type": "markdown",
   "metadata": {},
   "source": [
    "* Vejamos o diagrama de classes do nosso projeto:\n",
    "\n",
    "<img src=\"figures/case_study_properties.png\"/>"
   ]
  },
  {
   "cell_type": "markdown",
   "metadata": {},
   "source": [
    "Partindo para o código, vamos começar pela classe Property:"
   ]
  },
  {
   "cell_type": "code",
   "execution_count": 29,
   "metadata": {},
   "outputs": [],
   "source": [
    "class Property:\n",
    "    def __init__(self, square_feet='', beds='', baths='', **kwargs):\n",
    "        super().__init__(**kwargs)\n",
    "        self.square_feet = square_feet\n",
    "        self.beds = beds\n",
    "        self.baths = baths\n",
    "        \n",
    "    def display(self):\n",
    "        print(\"DETALHES DA PROPRIEDADE\")\n",
    "        print(\"=======================\")\n",
    "        print(\"Tamanho em pés quadrados: {}\".format(self.square_feet))\n",
    "        print(\"Número de quartos: {}\".format(self.beds))\n",
    "        print(\"Número de banheiros: {}\\n\".format(self.baths))\n",
    "        \n",
    "    def prompt_init():#método de classe (método estático)\n",
    "        return dict(square_feet=input(\"Entre com o tamanho em pés quadrados:\"),\n",
    "                   beds=input(\"Entre com o número de quartos:\"),\n",
    "                   baths=input(\"Entre com o número de banheiros:\"))\n",
    "    prompt_init = staticmethod(prompt_init)"
   ]
  },
  {
   "cell_type": "markdown",
   "metadata": {},
   "source": [
    "* Alguns comentários sobre a classe acima:\n",
    "    * Colocamos o \\*\\*kwargs, porque já sabemos que vamos usar herança múltipla;\n",
    "    * Colocamos também super().\\_\\_init\\_\\_(\\*\\*kwargs) em caso de não sermos a última chamada na cadeia de herança múltipla;\n",
    "    * como *prompt_init()* é um método de classe, ele não tem o argumento *self*;\n",
    "    * o *prompt_init()* cria um dicionário com os valores que serão passados para o \\_\\_init\\_\\_"
   ]
  },
  {
   "cell_type": "markdown",
   "metadata": {},
   "source": [
    "A classe Apartment vai estender Proporty:"
   ]
  },
  {
   "cell_type": "code",
   "execution_count": 30,
   "metadata": {},
   "outputs": [],
   "source": [
    "class Apartment(Property):\n",
    "    valid_laundries = (\"coin\", \"ensuite\", \"none\")\n",
    "    valid_balconies = (\"yes\", \"no\", \"solarium\")\n",
    "    \n",
    "    def __init__(self, balcony='', laundry='', **kwargs):\n",
    "        super().__init__(**kwargs)\n",
    "        self.balcony = balcony\n",
    "        self.laundry = laundry\n",
    "        \n",
    "    def display(self):\n",
    "        super().display()\n",
    "        print(\"DETALHES DO APARTAMENTO\")\n",
    "        print(\"lavanderia: %s\" % self.laundry)\n",
    "        print(\"possui varanda: %s\" % self.balcony)\n",
    "        \n",
    "    def prompt_init():\n",
    "        parent_init = Property.prompt_init()\n",
    "        laundry = ''\n",
    "        while laundry.lower() not in Apartment.valid_laundries:\n",
    "            laundry = input(\"Como é a lavanderia da \"\n",
    "                           \"propriedade ? ({})\".format(\n",
    "                           \", \".join(Apartment.valid_laundries)))            \n",
    "        balcony = ''\n",
    "        while balcony.lower() not in Apartment.valid_balconies:\n",
    "            balcony = input(\"A propriedade tem uma varanda? \"\n",
    "                           \"({})\".format(\", \".join(Apartment.valid_balconies)))        \n",
    "        parent_init.update({\n",
    "            \"laundry\": laundry,\n",
    "            \"balcony\": balcony\n",
    "        })        \n",
    "        return parent_init\n",
    "    prompt_init = staticmethod(prompt_init)"
   ]
  },
  {
   "cell_type": "markdown",
   "metadata": {},
   "source": [
    "* Sobre a classe acima, observe que o método display e \\_\\_init\\_\\_ chamam os métodos de seus pais usando o *super()* para garantir que o imóvel será inicializado corretamente;\n",
    "* O método *prompt_init* da clase *Apartment* está adicionando novos valores aos da classe *Property*;\n",
    "    * Um problema deste método é que temos dois loops praticamente idênticos para validar as variáveis *laundry* e *balcony*;\n",
    "    * Que tal se criarmos uma função capaz de validar variáveis:"
   ]
  },
  {
   "cell_type": "code",
   "execution_count": 31,
   "metadata": {},
   "outputs": [],
   "source": [
    "def get_valid_input(input_string, valid_options):\n",
    "    input_string += \" ({}) \".format(\", \".join(valid_options))\n",
    "    response = input(input_string)\n",
    "    while response.lower() not in valid_options:\n",
    "        response = input(input_string)\n",
    "    return response"
   ]
  },
  {
   "cell_type": "markdown",
   "metadata": {},
   "source": [
    "* Antes de mais nada, vamos testar essa função:"
   ]
  },
  {
   "cell_type": "code",
   "execution_count": 34,
   "metadata": {},
   "outputs": [
    {
     "name": "stdout",
     "output_type": "stream",
     "text": [
      "como é a lavanderia? (coin, ensuite, none) coinnn\n",
      "como é a lavanderia? (coin, ensuite, none) coin\n"
     ]
    },
    {
     "data": {
      "text/plain": [
       "'coin'"
      ]
     },
     "execution_count": 34,
     "metadata": {},
     "output_type": "execute_result"
    }
   ],
   "source": [
    "get_valid_input(\"como é a lavanderia?\", (\"coin\", \"ensuite\", \"none\"))"
   ]
  },
  {
   "cell_type": "markdown",
   "metadata": {},
   "source": [
    "* Agora vamos atualizar o método *prompt_init* da classe *Apartment* para que ele fique mais fácil de ler e manter:"
   ]
  },
  {
   "cell_type": "code",
   "execution_count": 35,
   "metadata": {},
   "outputs": [],
   "source": [
    "class Apartment(Property):\n",
    "    valid_laundries = (\"coin\", \"ensuite\", \"none\")\n",
    "    valid_balconies = (\"yes\", \"no\", \"solarium\")\n",
    "    \n",
    "    def __init__(self, balcony='', laundry='', **kwargs):\n",
    "        super().__init__(**kwargs)\n",
    "        self.balcony = balcony\n",
    "        self.laundry = laundry\n",
    "        \n",
    "    def display(self):\n",
    "        super().display()\n",
    "        print(\"DETALHES DO APARTAMENTO\")\n",
    "        print(\"lavanderia: %s\" % self.laundry)\n",
    "        print(\"possui varanda: %s\" % self.balcony)\n",
    "        \n",
    "    def prompt_init():\n",
    "        parent_init = Property.prompt_init()\n",
    "        laundry = get_valid_input(\"Como é a lavanderia da \"\n",
    "                           \"propriedade ?\", Apartment.valid_laundries)\n",
    "        balcony = get_valid_input(\"A propriedade tem uma varanda? \",\n",
    "                           Apartment.valid_balconies)\n",
    "        parent_init.update({\n",
    "            \"laundry\": laundry,\n",
    "            \"balcony\": balcony\n",
    "        })        \n",
    "        return parent_init\n",
    "    prompt_init = staticmethod(prompt_init)"
   ]
  },
  {
   "cell_type": "markdown",
   "metadata": {},
   "source": [
    "* Agora vamos para a classe *House*:"
   ]
  },
  {
   "cell_type": "code",
   "execution_count": 36,
   "metadata": {},
   "outputs": [],
   "source": [
    "class House(Property):\n",
    "    valid_garage = (\"attached\", \"detached\", \"none\")\n",
    "    valid_fenced = (\"yes\", \"no\")\n",
    "    \n",
    "    def __init__(self, num_stories='', garage='', fenced='', **kwargs):\n",
    "        super().__init__(**kwargs)\n",
    "        self.garage = garage\n",
    "        self.fenced = fenced\n",
    "        self.num_stories = num_stories\n",
    "        \n",
    "    def display(self):\n",
    "        super().display()\n",
    "        print(\"DETALHES DA CASA\")\n",
    "        print(\"Número de andares: {}\".format(self.num_stories))\n",
    "        print(\"garagem: {}\".format(self.garage))\n",
    "        print(\"quintal cercado: {}\".format(self.fenced))\n",
    "    \n",
    "    def prompt_init():\n",
    "        parent_init = Property.prompt_init()\n",
    "        fenced = get_valid_input(\"O quintal é cercado \",\n",
    "        House.valid_fenced)\n",
    "        garage = get_valid_input(\"Tem garagem \",\n",
    "        House.valid_garage)\n",
    "        num_stories = input(\"A casa tem quantos andares? \")\n",
    "        \n",
    "        parent_init.update({\n",
    "            \"fenced\": fenced,\n",
    "            \"garage\": garage,\n",
    "            \"num_stories\": num_stories\n",
    "        })\n",
    "        return parent_init\n",
    "    prompt_init = staticmethod(prompt_init)"
   ]
  },
  {
   "cell_type": "markdown",
   "metadata": {},
   "source": [
    "* Vejamos agora a classe Purchase:"
   ]
  },
  {
   "cell_type": "code",
   "execution_count": 37,
   "metadata": {},
   "outputs": [],
   "source": [
    "class Purchase:\n",
    "    def __init__(self, price='', taxes='', **kwargs):\n",
    "        super().__init__(**kwargs)\n",
    "        self.price = price\n",
    "        self.taxes = taxes\n",
    "    \n",
    "    def display(self):\n",
    "        super().display()\n",
    "        print(\"DETALHES DA COMPRA\")\n",
    "        print(\"preço de compra: {}\".format(self.price))\n",
    "        print(\"taxas anuais: {}\".format(self.taxes))\n",
    "        \n",
    "    def prompt_init():\n",
    "        return dict(\n",
    "            price=input(\"Qual o preço de venda? \"),\n",
    "            taxes=input(\"Qual o valor das taxas anuais? \"))\n",
    "    prompt_init = staticmethod(prompt_init)"
   ]
  },
  {
   "cell_type": "markdown",
   "metadata": {},
   "source": [
    "Agora a classe Rental:"
   ]
  },
  {
   "cell_type": "code",
   "execution_count": 38,
   "metadata": {},
   "outputs": [],
   "source": [
    "class Rental:\n",
    "    def __init__(self, furnished='', utilities='', rent='', **kwargs):\n",
    "        super().__init__(**kwargs)\n",
    "        self.furnished = furnished\n",
    "        self.rent = rent\n",
    "        self.utilities = utilities\n",
    "        \n",
    "    def display(self):\n",
    "        super().display()\n",
    "        print(\"DETALHES DO ALUGUEL\")\n",
    "        print(\"aluguel: {}\".format(self.rent))\n",
    "        print(\"contas: {}\".format(self.utilities))\n",
    "        print(\"mobiliada: {}\".format(self.furnished))\n",
    "        \n",
    "    def prompt_init():\n",
    "        return dict(\n",
    "        rent=input(\"Qual o valor mensal do aluguel? \"),\n",
    "        utilities=input(\"Qual o valor das contas (água, luz, etc.)? \"),\n",
    "        furnished = get_valid_input(\"A propriedade é mobiliada? \", \n",
    "                                    (\"yes\", \"no\")))\n",
    "    prompt_init = staticmethod(prompt_init)"
   ]
  },
  {
   "cell_type": "markdown",
   "metadata": {},
   "source": [
    "* Usando herança múltipla vamos criar a classe HouseRental:"
   ]
  },
  {
   "cell_type": "code",
   "execution_count": 39,
   "metadata": {},
   "outputs": [],
   "source": [
    "class HouseRental(Rental, House):\n",
    "    def prompt_init():\n",
    "        init = House.prompt_init()\n",
    "        init.update(Rental.prompt_init())\n",
    "        return init\n",
    "    prompt_init = staticmethod(prompt_init)"
   ]
  },
  {
   "cell_type": "markdown",
   "metadata": {},
   "source": [
    "* Note que como as duas superclasses de HouseRental usam apropriadamente o super em seus métodos, nem precisamos criar o método *\\_\\_init\\_\\_* e *display*;\n",
    "* Isso não é o caso do *prompt_init*, uma vez que ele é um método de classe e, portanto, não usa o super;\n",
    "* Agora vamos testar nossa classe HouseRental:"
   ]
  },
  {
   "cell_type": "code",
   "execution_count": 40,
   "metadata": {},
   "outputs": [
    {
     "name": "stdout",
     "output_type": "stream",
     "text": [
      "Entre com o tamanho em pés quadrados:120\n",
      "Entre com o número de quartos:3\n",
      "Entre com o número de banheiros:4\n",
      "O quintal é cercado  (yes, no) yes\n",
      "Tem garagem  (attached, detached, none) attached\n",
      "A casa tem quantos andares? 2\n",
      "Qual o valor mensal do aluguel? 1200\n",
      "Qual o valor das contas (água, luz, etc.)? 800\n",
      "A propriedade é mobiliada?  (yes, no) yes\n"
     ]
    }
   ],
   "source": [
    "init = HouseRental.prompt_init()"
   ]
  },
  {
   "cell_type": "markdown",
   "metadata": {},
   "source": [
    "Podemos passar o discionário *init* como parâmetro para o construtor de um objeto da classe HouseRental:"
   ]
  },
  {
   "cell_type": "code",
   "execution_count": 41,
   "metadata": {},
   "outputs": [
    {
     "name": "stdout",
     "output_type": "stream",
     "text": [
      "DETALHES DA PROPRIEDADE\n",
      "=======================\n",
      "Tamanho em pés quadrados: 120\n",
      "Número de quartos: 3\n",
      "Número de banheiros: 4\n",
      "\n",
      "DETALHES DA CASA\n",
      "Número de andares: 2\n",
      "garagem: attached\n",
      "quintal cercado: yes\n",
      "DETALHES DO ALUGUEL\n",
      "aluguel: 1200\n",
      "contas: 800\n",
      "mobiliada: yes\n"
     ]
    }
   ],
   "source": [
    "house = HouseRental(**init)\n",
    "house.display()"
   ]
  },
  {
   "cell_type": "markdown",
   "metadata": {},
   "source": [
    "#### Nota sobre ordem das classes ao fazer ao realizar a herança múltipla\n",
    "\n",
    "* A ordem das classes herdadas no exemplo anterior é importante;\n",
    "* Se nós tivéssemos escrito \"class HouseRental(House, Rental)\" ao invés de \"class HouseRental(Rental, House)\", o método *display* não teria invocado o Rental.display();\n",
    "    * Na linha 9 da classe Rental, fizemos a chamada ao super().display(), para que quando um objeto da classe HouseRental invoque o Rental.display() através da herança múltipla, ele seja encaminhado para o super da classe House que, por sua vez, invoca o display da classe Proporty;\n",
    "    * Dessa forma, serão chamados o super da classe Rental e da classe House;"
   ]
  },
  {
   "cell_type": "markdown",
   "metadata": {},
   "source": [
    "* Podemos agora criar o restante de nossas classes que também usam herança múltipla:"
   ]
  },
  {
   "cell_type": "code",
   "execution_count": 42,
   "metadata": {},
   "outputs": [],
   "source": [
    "class ApartmentRental(Rental, Apartment):\n",
    "    def prompt_init():\n",
    "        init = Apartment.prompt_init()\n",
    "        init.update(Rental.prompt_init())\n",
    "        return init\n",
    "    prompt_init = staticmethod(prompt_init)"
   ]
  },
  {
   "cell_type": "code",
   "execution_count": 43,
   "metadata": {},
   "outputs": [],
   "source": [
    "class ApartmentPurchase(Purchase, Apartment):\n",
    "    def prompt_init():\n",
    "        init = Apartment.prompt_init()\n",
    "        init.update(Purchase.prompt_init())\n",
    "        return init\n",
    "    prompt_init = staticmethod(prompt_init)"
   ]
  },
  {
   "cell_type": "code",
   "execution_count": 44,
   "metadata": {},
   "outputs": [],
   "source": [
    "class HousePurchase(Purchase, House):\n",
    "    def prompt_init():\n",
    "        init = House.prompt_init()\n",
    "        init.update(Purchase.prompt_init())\n",
    "        return init\n",
    "    prompt_init = staticmethod(prompt_init)"
   ]
  },
  {
   "cell_type": "markdown",
   "metadata": {},
   "source": [
    "* Finalmente, vamos criar nossa classe Agent;\n",
    "* Observe que para adicionar propriedade precisamos primeiramente saber o tipo da propriedade e se ela está a venda ou para alugar;\n",
    "    * Uma vez que isso estiver determinado, basta chamarmos o método prompt_init da classe apropriada\n",
    "* Podemos fazer isso usando um menu:"
   ]
  },
  {
   "cell_type": "code",
   "execution_count": 45,
   "metadata": {},
   "outputs": [],
   "source": [
    "class Agent:\n",
    "    def __init__(self):\n",
    "        self.property_list = []\n",
    "    \n",
    "    def display_properties(self):\n",
    "        for property in self.property_list:\n",
    "            property.display()\n",
    "            \n",
    "    type_map = {\n",
    "        (\"house\", \"rental\"): HouseRental,\n",
    "        (\"house\", \"purchase\"): HousePurchase,\n",
    "        (\"apartment\", \"rental\"): ApartmentRental,\n",
    "        (\"apartment\", \"purchase\"): ApartmentPurchase\n",
    "    }\n",
    "\n",
    "    def add_property(self):\n",
    "        property_type = get_valid_input(\n",
    "            \"What type of property? \",\n",
    "            (\"house\", \"apartment\")).lower()\n",
    "        payment_type = get_valid_input(\n",
    "            \"What payment type? \",\n",
    "            (\"purchase\", \"rental\")).lower()\n",
    "\n",
    "        PropertyClass = self.type_map[(property_type, payment_type)]\n",
    "        init_args = PropertyClass.prompt_init()\n",
    "        self.property_list.append(PropertyClass(**init_args))"
   ]
  },
  {
   "cell_type": "markdown",
   "metadata": {},
   "source": [
    "* No método add_proporty o que fizemos foi verificar qual é a classe apropriada consultado o dicionário type_map e depois instanciamos o objeto usando a variável PropertyClass da classe apropriada;\n",
    "* Não sabemos exatamente com que classe estamos lidando e usamos o polimorfismo para chamar o método prompt_init para pegar um dicionário com os dados da propriedade e passar para o construtor;\n",
    "* Depois usamos a sintaxe de keyword argument para converter um dicionário em argumentos do construtor de um novo objeto que carrega os dados corretos;\n",
    "* Abaixo, vamos testar nossa classe Agent:"
   ]
  },
  {
   "cell_type": "code",
   "execution_count": 46,
   "metadata": {},
   "outputs": [],
   "source": [
    "agent = Agent()"
   ]
  },
  {
   "cell_type": "code",
   "execution_count": 26,
   "metadata": {},
   "outputs": [
    {
     "name": "stdout",
     "output_type": "stream",
     "text": [
      "What type of property?  (house, apartment) apartment\n",
      "What payment type?  (purchase, rental) purchase\n",
      "Entre com o tamanho em pés quadrados:200\n",
      "Entre com o número de quartos:2\n",
      "Entre com o número de banheiros:2\n",
      "Como é a lavanderia da propriedade ? (coin, ensuite, none) ensuite\n",
      "A propriedade tem uma varanda?  (yes, no, solarium) yes\n",
      "Qual o preço de venda? 100000\n",
      "Qual o valor das taxas anuais? 200\n"
     ]
    }
   ],
   "source": [
    "agent.add_property()"
   ]
  },
  {
   "cell_type": "code",
   "execution_count": 27,
   "metadata": {},
   "outputs": [
    {
     "name": "stdout",
     "output_type": "stream",
     "text": [
      "What type of property?  (house, apartment) house\n",
      "What payment type?  (purchase, rental) rental\n",
      "Entre com o tamanho em pés quadrados:100\n",
      "Entre com o número de quartos:3\n",
      "Entre com o número de banheiros:4\n",
      "O quintal é cercado  (yes, no) yes\n",
      "Tem garagem  (attached, detached, none) none\n",
      "A casa tem quantos andares? 2\n",
      "Qual o valor mensal do aluguel? 2000\n",
      "Qual o valor das contas (água, luz, etc.)? 500\n",
      "A propriedade é mobiliada?  (yes, no) yes\n"
     ]
    }
   ],
   "source": [
    "agent.add_property()"
   ]
  },
  {
   "cell_type": "code",
   "execution_count": 28,
   "metadata": {},
   "outputs": [
    {
     "name": "stdout",
     "output_type": "stream",
     "text": [
      "DETALHES DA PROPRIEDADE\n",
      "=======================\n",
      "Tamanho em pés quadrados: 200\n",
      "Número de quartos: 2\n",
      "Número de banheiros: 2\n",
      "\n",
      "DETALHES DO APARTAMENTO\n",
      "lavanderia: ensuite\n",
      "possui varanda: yes\n",
      "DETALHES DA COMPRA\n",
      "preço de compra: 100000\n",
      "taxas anuais: 200\n",
      "DETALHES DA PROPRIEDADE\n",
      "=======================\n",
      "Tamanho em pés quadrados: 100\n",
      "Número de quartos: 3\n",
      "Número de banheiros: 4\n",
      "\n",
      "DETALHES DA CASA\n",
      "Número de andares: 2\n",
      "garagem: none\n",
      "quintal cercado: yes\n",
      "DETALHES DO ALUGUEL\n",
      "aluguel: 2000\n",
      "contas: 500\n",
      "mobiliada: yes\n"
     ]
    }
   ],
   "source": [
    "agent.display_properties()"
   ]
  },
  {
   "cell_type": "markdown",
   "metadata": {},
   "source": [
    "## Exercício Avaliativo\n",
    "\n",
    "* Faça os execícios da seção 10.7 e 10.9, 11.4 e 11.6 da apostila **py14** da caelum. Envie as soluções pelo SIGAA. As soluções podem ser enviadas através de um arquivo compactado ou arquivo com o link do github com seu código;"
   ]
  }
 ],
 "metadata": {
  "kernelspec": {
   "display_name": "Python 3",
   "language": "python",
   "name": "python3"
  },
  "language_info": {
   "codemirror_mode": {
    "name": "ipython",
    "version": 3
   },
   "file_extension": ".py",
   "mimetype": "text/x-python",
   "name": "python",
   "nbconvert_exporter": "python",
   "pygments_lexer": "ipython3",
   "version": "3.12.0"
  }
 },
 "nbformat": 4,
 "nbformat_minor": 2
}
